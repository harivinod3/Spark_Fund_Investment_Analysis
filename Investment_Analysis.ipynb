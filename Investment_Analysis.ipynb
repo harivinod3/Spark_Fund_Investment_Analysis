{
  "nbformat": 4,
  "nbformat_minor": 0,
  "metadata": {
    "colab": {
      "name": "Investment Analysis.ipynb",
      "provenance": []
    },
    "kernelspec": {
      "name": "python3",
      "display_name": "Python 3"
    }
  },
  "cells": [
    {
      "cell_type": "markdown",
      "metadata": {
        "id": "nfcjU8K4mWNb"
      },
      "source": [
        "## Importing the required python liberaries"
      ]
    },
    {
      "cell_type": "code",
      "metadata": {
        "id": "es95fHn3FGyJ"
      },
      "source": [
        "import numpy as np\r\n",
        "import pandas as pd\r\n",
        "\r\n",
        "import matplotlib.pyplot as plt\r\n",
        "import seaborn as sns"
      ],
      "execution_count": 379,
      "outputs": []
    },
    {
      "cell_type": "markdown",
      "metadata": {
        "id": "kJhgG9HFmd7v"
      },
      "source": [
        "## Mounting Drive "
      ]
    },
    {
      "cell_type": "code",
      "metadata": {
        "colab": {
          "base_uri": "https://localhost:8080/"
        },
        "id": "zTVO1PnrFhgv",
        "outputId": "738acd2d-1ca5-4548-87df-47e39fb27858"
      },
      "source": [
        "from google.colab import drive \r\n",
        "drive.mount('/content/gdrive')\r\n",
        "%cd /content/gdrive/My\\ Drive\r\n"
      ],
      "execution_count": 380,
      "outputs": [
        {
          "output_type": "stream",
          "text": [
            "Drive already mounted at /content/gdrive; to attempt to forcibly remount, call drive.mount(\"/content/gdrive\", force_remount=True).\n",
            "/content/gdrive/My Drive\n"
          ],
          "name": "stdout"
        }
      ]
    },
    {
      "cell_type": "markdown",
      "metadata": {
        "id": "zVzBYSMVmj_H"
      },
      "source": [
        "## Reading the input files"
      ]
    },
    {
      "cell_type": "code",
      "metadata": {
        "id": "lDHHWYO5Hjk9"
      },
      "source": [
        "companies = pd.read_csv(\"/content/gdrive/My Drive/MS/Investment/companies.csv\", sep=\",\", encoding = \"unicode_escape\")\r\n",
        "rounds2 = pd.read_csv(\"/content/gdrive/My Drive/MS/Investment/rounds2.csv\",encoding='unicode_escape')\r\n",
        "mapping = pd.read_csv(\"/content/gdrive/My Drive/MS/Investment/mapping.csv\", encoding = \"unicode_escape\")"
      ],
      "execution_count": 381,
      "outputs": []
    },
    {
      "cell_type": "code",
      "metadata": {
        "colab": {
          "base_uri": "https://localhost:8080/",
          "height": 194
        },
        "id": "lHzpFJC4JE7o",
        "outputId": "faba0dbe-c1cd-442e-e285-201cba7e1d23"
      },
      "source": [
        "companies.head()"
      ],
      "execution_count": 382,
      "outputs": [
        {
          "output_type": "execute_result",
          "data": {
            "text/html": [
              "<div>\n",
              "<style scoped>\n",
              "    .dataframe tbody tr th:only-of-type {\n",
              "        vertical-align: middle;\n",
              "    }\n",
              "\n",
              "    .dataframe tbody tr th {\n",
              "        vertical-align: top;\n",
              "    }\n",
              "\n",
              "    .dataframe thead th {\n",
              "        text-align: right;\n",
              "    }\n",
              "</style>\n",
              "<table border=\"1\" class=\"dataframe\">\n",
              "  <thead>\n",
              "    <tr style=\"text-align: right;\">\n",
              "      <th></th>\n",
              "      <th>permalink</th>\n",
              "      <th>name</th>\n",
              "      <th>homepage_url</th>\n",
              "      <th>category_list</th>\n",
              "      <th>status</th>\n",
              "      <th>country_code</th>\n",
              "      <th>state_code</th>\n",
              "      <th>region</th>\n",
              "      <th>city</th>\n",
              "      <th>founded_at</th>\n",
              "    </tr>\n",
              "  </thead>\n",
              "  <tbody>\n",
              "    <tr>\n",
              "      <th>0</th>\n",
              "      <td>/Organization/-Fame</td>\n",
              "      <td>#fame</td>\n",
              "      <td>http://livfame.com</td>\n",
              "      <td>Media</td>\n",
              "      <td>operating</td>\n",
              "      <td>IND</td>\n",
              "      <td>16</td>\n",
              "      <td>Mumbai</td>\n",
              "      <td>Mumbai</td>\n",
              "      <td>NaN</td>\n",
              "    </tr>\n",
              "    <tr>\n",
              "      <th>1</th>\n",
              "      <td>/Organization/-Qounter</td>\n",
              "      <td>:Qounter</td>\n",
              "      <td>http://www.qounter.com</td>\n",
              "      <td>Application Platforms|Real Time|Social Network...</td>\n",
              "      <td>operating</td>\n",
              "      <td>USA</td>\n",
              "      <td>DE</td>\n",
              "      <td>DE - Other</td>\n",
              "      <td>Delaware City</td>\n",
              "      <td>04-09-2014</td>\n",
              "    </tr>\n",
              "    <tr>\n",
              "      <th>2</th>\n",
              "      <td>/Organization/-The-One-Of-Them-Inc-</td>\n",
              "      <td>(THE) ONE of THEM,Inc.</td>\n",
              "      <td>http://oneofthem.jp</td>\n",
              "      <td>Apps|Games|Mobile</td>\n",
              "      <td>operating</td>\n",
              "      <td>NaN</td>\n",
              "      <td>NaN</td>\n",
              "      <td>NaN</td>\n",
              "      <td>NaN</td>\n",
              "      <td>NaN</td>\n",
              "    </tr>\n",
              "    <tr>\n",
              "      <th>3</th>\n",
              "      <td>/Organization/0-6-Com</td>\n",
              "      <td>0-6.com</td>\n",
              "      <td>http://www.0-6.com</td>\n",
              "      <td>Curated Web</td>\n",
              "      <td>operating</td>\n",
              "      <td>CHN</td>\n",
              "      <td>22</td>\n",
              "      <td>Beijing</td>\n",
              "      <td>Beijing</td>\n",
              "      <td>01-01-2007</td>\n",
              "    </tr>\n",
              "    <tr>\n",
              "      <th>4</th>\n",
              "      <td>/Organization/004-Technologies</td>\n",
              "      <td>004 Technologies</td>\n",
              "      <td>http://004gmbh.de/en/004-interact</td>\n",
              "      <td>Software</td>\n",
              "      <td>operating</td>\n",
              "      <td>USA</td>\n",
              "      <td>IL</td>\n",
              "      <td>Springfield, Illinois</td>\n",
              "      <td>Champaign</td>\n",
              "      <td>01-01-2010</td>\n",
              "    </tr>\n",
              "  </tbody>\n",
              "</table>\n",
              "</div>"
            ],
            "text/plain": [
              "                             permalink  ...  founded_at\n",
              "0                  /Organization/-Fame  ...         NaN\n",
              "1               /Organization/-Qounter  ...  04-09-2014\n",
              "2  /Organization/-The-One-Of-Them-Inc-  ...         NaN\n",
              "3                /Organization/0-6-Com  ...  01-01-2007\n",
              "4       /Organization/004-Technologies  ...  01-01-2010\n",
              "\n",
              "[5 rows x 10 columns]"
            ]
          },
          "metadata": {
            "tags": []
          },
          "execution_count": 382
        }
      ]
    },
    {
      "cell_type": "code",
      "metadata": {
        "colab": {
          "base_uri": "https://localhost:8080/",
          "height": 164
        },
        "id": "pPNxYGiDODXe",
        "outputId": "a952f7b5-a34a-4696-e5dd-e9c5da6b01be"
      },
      "source": [
        "companies.describe()"
      ],
      "execution_count": 383,
      "outputs": [
        {
          "output_type": "execute_result",
          "data": {
            "text/html": [
              "<div>\n",
              "<style scoped>\n",
              "    .dataframe tbody tr th:only-of-type {\n",
              "        vertical-align: middle;\n",
              "    }\n",
              "\n",
              "    .dataframe tbody tr th {\n",
              "        vertical-align: top;\n",
              "    }\n",
              "\n",
              "    .dataframe thead th {\n",
              "        text-align: right;\n",
              "    }\n",
              "</style>\n",
              "<table border=\"1\" class=\"dataframe\">\n",
              "  <thead>\n",
              "    <tr style=\"text-align: right;\">\n",
              "      <th></th>\n",
              "      <th>permalink</th>\n",
              "      <th>name</th>\n",
              "      <th>homepage_url</th>\n",
              "      <th>category_list</th>\n",
              "      <th>status</th>\n",
              "      <th>country_code</th>\n",
              "      <th>state_code</th>\n",
              "      <th>region</th>\n",
              "      <th>city</th>\n",
              "      <th>founded_at</th>\n",
              "    </tr>\n",
              "  </thead>\n",
              "  <tbody>\n",
              "    <tr>\n",
              "      <th>count</th>\n",
              "      <td>66368</td>\n",
              "      <td>66367</td>\n",
              "      <td>61310</td>\n",
              "      <td>63220</td>\n",
              "      <td>66368</td>\n",
              "      <td>59410</td>\n",
              "      <td>57821</td>\n",
              "      <td>58338</td>\n",
              "      <td>58340</td>\n",
              "      <td>51147</td>\n",
              "    </tr>\n",
              "    <tr>\n",
              "      <th>unique</th>\n",
              "      <td>66368</td>\n",
              "      <td>66099</td>\n",
              "      <td>61191</td>\n",
              "      <td>27296</td>\n",
              "      <td>4</td>\n",
              "      <td>137</td>\n",
              "      <td>311</td>\n",
              "      <td>1092</td>\n",
              "      <td>5111</td>\n",
              "      <td>3978</td>\n",
              "    </tr>\n",
              "    <tr>\n",
              "      <th>top</th>\n",
              "      <td>/Organization/Planet-Expat</td>\n",
              "      <td>#NAME?</td>\n",
              "      <td>http://www.askforoffer.com</td>\n",
              "      <td>Software</td>\n",
              "      <td>operating</td>\n",
              "      <td>USA</td>\n",
              "      <td>CA</td>\n",
              "      <td>SF Bay Area</td>\n",
              "      <td>San Francisco</td>\n",
              "      <td>01-01-2012</td>\n",
              "    </tr>\n",
              "    <tr>\n",
              "      <th>freq</th>\n",
              "      <td>1</td>\n",
              "      <td>4</td>\n",
              "      <td>5</td>\n",
              "      <td>3995</td>\n",
              "      <td>53034</td>\n",
              "      <td>37601</td>\n",
              "      <td>12900</td>\n",
              "      <td>8804</td>\n",
              "      <td>3526</td>\n",
              "      <td>2730</td>\n",
              "    </tr>\n",
              "  </tbody>\n",
              "</table>\n",
              "</div>"
            ],
            "text/plain": [
              "                         permalink    name  ...           city  founded_at\n",
              "count                        66368   66367  ...          58340       51147\n",
              "unique                       66368   66099  ...           5111        3978\n",
              "top     /Organization/Planet-Expat  #NAME?  ...  San Francisco  01-01-2012\n",
              "freq                             1       4  ...           3526        2730\n",
              "\n",
              "[4 rows x 10 columns]"
            ]
          },
          "metadata": {
            "tags": []
          },
          "execution_count": 383
        }
      ]
    },
    {
      "cell_type": "code",
      "metadata": {
        "colab": {
          "base_uri": "https://localhost:8080/"
        },
        "id": "WbVYy2M9OLZl",
        "outputId": "d94adcce-cbe9-4ed1-8849-efa3a0dcfd6a"
      },
      "source": [
        "companies.isna().sum()"
      ],
      "execution_count": 384,
      "outputs": [
        {
          "output_type": "execute_result",
          "data": {
            "text/plain": [
              "permalink            0\n",
              "name                 1\n",
              "homepage_url      5058\n",
              "category_list     3148\n",
              "status               0\n",
              "country_code      6958\n",
              "state_code        8547\n",
              "region            8030\n",
              "city              8028\n",
              "founded_at       15221\n",
              "dtype: int64"
            ]
          },
          "metadata": {
            "tags": []
          },
          "execution_count": 384
        }
      ]
    },
    {
      "cell_type": "code",
      "metadata": {
        "colab": {
          "base_uri": "https://localhost:8080/",
          "height": 194
        },
        "id": "GOHYDJpSOqz8",
        "outputId": "e28f1a9d-04bb-44b8-f1f6-607d6edcf89e"
      },
      "source": [
        "rounds2.head()"
      ],
      "execution_count": 385,
      "outputs": [
        {
          "output_type": "execute_result",
          "data": {
            "text/html": [
              "<div>\n",
              "<style scoped>\n",
              "    .dataframe tbody tr th:only-of-type {\n",
              "        vertical-align: middle;\n",
              "    }\n",
              "\n",
              "    .dataframe tbody tr th {\n",
              "        vertical-align: top;\n",
              "    }\n",
              "\n",
              "    .dataframe thead th {\n",
              "        text-align: right;\n",
              "    }\n",
              "</style>\n",
              "<table border=\"1\" class=\"dataframe\">\n",
              "  <thead>\n",
              "    <tr style=\"text-align: right;\">\n",
              "      <th></th>\n",
              "      <th>company_permalink</th>\n",
              "      <th>funding_round_permalink</th>\n",
              "      <th>funding_round_type</th>\n",
              "      <th>funding_round_code</th>\n",
              "      <th>funded_at</th>\n",
              "      <th>raised_amount_usd</th>\n",
              "    </tr>\n",
              "  </thead>\n",
              "  <tbody>\n",
              "    <tr>\n",
              "      <th>0</th>\n",
              "      <td>/organization/-fame</td>\n",
              "      <td>/funding-round/9a01d05418af9f794eebff7ace91f638</td>\n",
              "      <td>venture</td>\n",
              "      <td>B</td>\n",
              "      <td>05-01-2015</td>\n",
              "      <td>10000000.0</td>\n",
              "    </tr>\n",
              "    <tr>\n",
              "      <th>1</th>\n",
              "      <td>/ORGANIZATION/-QOUNTER</td>\n",
              "      <td>/funding-round/22dacff496eb7acb2b901dec1dfe5633</td>\n",
              "      <td>venture</td>\n",
              "      <td>A</td>\n",
              "      <td>14-10-2014</td>\n",
              "      <td>NaN</td>\n",
              "    </tr>\n",
              "    <tr>\n",
              "      <th>2</th>\n",
              "      <td>/organization/-qounter</td>\n",
              "      <td>/funding-round/b44fbb94153f6cdef13083530bb48030</td>\n",
              "      <td>seed</td>\n",
              "      <td>NaN</td>\n",
              "      <td>01-03-2014</td>\n",
              "      <td>700000.0</td>\n",
              "    </tr>\n",
              "    <tr>\n",
              "      <th>3</th>\n",
              "      <td>/ORGANIZATION/-THE-ONE-OF-THEM-INC-</td>\n",
              "      <td>/funding-round/650b8f704416801069bb178a1418776b</td>\n",
              "      <td>venture</td>\n",
              "      <td>B</td>\n",
              "      <td>30-01-2014</td>\n",
              "      <td>3406878.0</td>\n",
              "    </tr>\n",
              "    <tr>\n",
              "      <th>4</th>\n",
              "      <td>/organization/0-6-com</td>\n",
              "      <td>/funding-round/5727accaeaa57461bd22a9bdd945382d</td>\n",
              "      <td>venture</td>\n",
              "      <td>A</td>\n",
              "      <td>19-03-2008</td>\n",
              "      <td>2000000.0</td>\n",
              "    </tr>\n",
              "  </tbody>\n",
              "</table>\n",
              "</div>"
            ],
            "text/plain": [
              "                     company_permalink  ... raised_amount_usd\n",
              "0                  /organization/-fame  ...        10000000.0\n",
              "1               /ORGANIZATION/-QOUNTER  ...               NaN\n",
              "2               /organization/-qounter  ...          700000.0\n",
              "3  /ORGANIZATION/-THE-ONE-OF-THEM-INC-  ...         3406878.0\n",
              "4                /organization/0-6-com  ...         2000000.0\n",
              "\n",
              "[5 rows x 6 columns]"
            ]
          },
          "metadata": {
            "tags": []
          },
          "execution_count": 385
        }
      ]
    },
    {
      "cell_type": "code",
      "metadata": {
        "colab": {
          "base_uri": "https://localhost:8080/",
          "height": 282
        },
        "id": "GFTFz8YIO4_O",
        "outputId": "915d6163-ddae-433b-a71d-9b7262e9f0ee"
      },
      "source": [
        "rounds2.describe()"
      ],
      "execution_count": 386,
      "outputs": [
        {
          "output_type": "execute_result",
          "data": {
            "text/html": [
              "<div>\n",
              "<style scoped>\n",
              "    .dataframe tbody tr th:only-of-type {\n",
              "        vertical-align: middle;\n",
              "    }\n",
              "\n",
              "    .dataframe tbody tr th {\n",
              "        vertical-align: top;\n",
              "    }\n",
              "\n",
              "    .dataframe thead th {\n",
              "        text-align: right;\n",
              "    }\n",
              "</style>\n",
              "<table border=\"1\" class=\"dataframe\">\n",
              "  <thead>\n",
              "    <tr style=\"text-align: right;\">\n",
              "      <th></th>\n",
              "      <th>raised_amount_usd</th>\n",
              "    </tr>\n",
              "  </thead>\n",
              "  <tbody>\n",
              "    <tr>\n",
              "      <th>count</th>\n",
              "      <td>9.495900e+04</td>\n",
              "    </tr>\n",
              "    <tr>\n",
              "      <th>mean</th>\n",
              "      <td>1.042687e+07</td>\n",
              "    </tr>\n",
              "    <tr>\n",
              "      <th>std</th>\n",
              "      <td>1.148212e+08</td>\n",
              "    </tr>\n",
              "    <tr>\n",
              "      <th>min</th>\n",
              "      <td>0.000000e+00</td>\n",
              "    </tr>\n",
              "    <tr>\n",
              "      <th>25%</th>\n",
              "      <td>3.225000e+05</td>\n",
              "    </tr>\n",
              "    <tr>\n",
              "      <th>50%</th>\n",
              "      <td>1.680511e+06</td>\n",
              "    </tr>\n",
              "    <tr>\n",
              "      <th>75%</th>\n",
              "      <td>7.000000e+06</td>\n",
              "    </tr>\n",
              "    <tr>\n",
              "      <th>max</th>\n",
              "      <td>2.127194e+10</td>\n",
              "    </tr>\n",
              "  </tbody>\n",
              "</table>\n",
              "</div>"
            ],
            "text/plain": [
              "       raised_amount_usd\n",
              "count       9.495900e+04\n",
              "mean        1.042687e+07\n",
              "std         1.148212e+08\n",
              "min         0.000000e+00\n",
              "25%         3.225000e+05\n",
              "50%         1.680511e+06\n",
              "75%         7.000000e+06\n",
              "max         2.127194e+10"
            ]
          },
          "metadata": {
            "tags": []
          },
          "execution_count": 386
        }
      ]
    },
    {
      "cell_type": "code",
      "metadata": {
        "colab": {
          "base_uri": "https://localhost:8080/"
        },
        "id": "8KIEN9UOPBzc",
        "outputId": "65fb8158-3452-4ede-b1cc-9b2554e17c26"
      },
      "source": [
        "rounds2.isna().sum()"
      ],
      "execution_count": 387,
      "outputs": [
        {
          "output_type": "execute_result",
          "data": {
            "text/plain": [
              "company_permalink              0\n",
              "funding_round_permalink        0\n",
              "funding_round_type             0\n",
              "funding_round_code         83809\n",
              "funded_at                      0\n",
              "raised_amount_usd          19990\n",
              "dtype: int64"
            ]
          },
          "metadata": {
            "tags": []
          },
          "execution_count": 387
        }
      ]
    },
    {
      "cell_type": "code",
      "metadata": {
        "colab": {
          "base_uri": "https://localhost:8080/",
          "height": 194
        },
        "id": "hYKvpd4WPOrt",
        "outputId": "beb52d61-41d7-4a74-eb72-8b42a3f3bdee"
      },
      "source": [
        "mapping.head()"
      ],
      "execution_count": 388,
      "outputs": [
        {
          "output_type": "execute_result",
          "data": {
            "text/html": [
              "<div>\n",
              "<style scoped>\n",
              "    .dataframe tbody tr th:only-of-type {\n",
              "        vertical-align: middle;\n",
              "    }\n",
              "\n",
              "    .dataframe tbody tr th {\n",
              "        vertical-align: top;\n",
              "    }\n",
              "\n",
              "    .dataframe thead th {\n",
              "        text-align: right;\n",
              "    }\n",
              "</style>\n",
              "<table border=\"1\" class=\"dataframe\">\n",
              "  <thead>\n",
              "    <tr style=\"text-align: right;\">\n",
              "      <th></th>\n",
              "      <th>category_list</th>\n",
              "      <th>Automotive &amp; Sports</th>\n",
              "      <th>Blanks</th>\n",
              "      <th>Cleantech / Semiconductors</th>\n",
              "      <th>Entertainment</th>\n",
              "      <th>Health</th>\n",
              "      <th>Manufacturing</th>\n",
              "      <th>News, Search and Messaging</th>\n",
              "      <th>Others</th>\n",
              "      <th>Social, Finance, Analytics, Advertising</th>\n",
              "    </tr>\n",
              "  </thead>\n",
              "  <tbody>\n",
              "    <tr>\n",
              "      <th>0</th>\n",
              "      <td>NaN</td>\n",
              "      <td>0</td>\n",
              "      <td>1</td>\n",
              "      <td>0</td>\n",
              "      <td>0</td>\n",
              "      <td>0</td>\n",
              "      <td>0</td>\n",
              "      <td>0</td>\n",
              "      <td>0</td>\n",
              "      <td>0</td>\n",
              "    </tr>\n",
              "    <tr>\n",
              "      <th>1</th>\n",
              "      <td>3D</td>\n",
              "      <td>0</td>\n",
              "      <td>0</td>\n",
              "      <td>0</td>\n",
              "      <td>0</td>\n",
              "      <td>0</td>\n",
              "      <td>1</td>\n",
              "      <td>0</td>\n",
              "      <td>0</td>\n",
              "      <td>0</td>\n",
              "    </tr>\n",
              "    <tr>\n",
              "      <th>2</th>\n",
              "      <td>3D Printing</td>\n",
              "      <td>0</td>\n",
              "      <td>0</td>\n",
              "      <td>0</td>\n",
              "      <td>0</td>\n",
              "      <td>0</td>\n",
              "      <td>1</td>\n",
              "      <td>0</td>\n",
              "      <td>0</td>\n",
              "      <td>0</td>\n",
              "    </tr>\n",
              "    <tr>\n",
              "      <th>3</th>\n",
              "      <td>3D Technology</td>\n",
              "      <td>0</td>\n",
              "      <td>0</td>\n",
              "      <td>0</td>\n",
              "      <td>0</td>\n",
              "      <td>0</td>\n",
              "      <td>1</td>\n",
              "      <td>0</td>\n",
              "      <td>0</td>\n",
              "      <td>0</td>\n",
              "    </tr>\n",
              "    <tr>\n",
              "      <th>4</th>\n",
              "      <td>Accounting</td>\n",
              "      <td>0</td>\n",
              "      <td>0</td>\n",
              "      <td>0</td>\n",
              "      <td>0</td>\n",
              "      <td>0</td>\n",
              "      <td>0</td>\n",
              "      <td>0</td>\n",
              "      <td>0</td>\n",
              "      <td>1</td>\n",
              "    </tr>\n",
              "  </tbody>\n",
              "</table>\n",
              "</div>"
            ],
            "text/plain": [
              "   category_list  ...  Social, Finance, Analytics, Advertising\n",
              "0            NaN  ...                                        0\n",
              "1             3D  ...                                        0\n",
              "2    3D Printing  ...                                        0\n",
              "3  3D Technology  ...                                        0\n",
              "4     Accounting  ...                                        1\n",
              "\n",
              "[5 rows x 10 columns]"
            ]
          },
          "metadata": {
            "tags": []
          },
          "execution_count": 388
        }
      ]
    },
    {
      "cell_type": "code",
      "metadata": {
        "colab": {
          "base_uri": "https://localhost:8080/",
          "height": 282
        },
        "id": "h1k1YW0UPTBc",
        "outputId": "918fe306-73de-415b-a238-555f5d73db62"
      },
      "source": [
        "mapping.describe()"
      ],
      "execution_count": 389,
      "outputs": [
        {
          "output_type": "execute_result",
          "data": {
            "text/html": [
              "<div>\n",
              "<style scoped>\n",
              "    .dataframe tbody tr th:only-of-type {\n",
              "        vertical-align: middle;\n",
              "    }\n",
              "\n",
              "    .dataframe tbody tr th {\n",
              "        vertical-align: top;\n",
              "    }\n",
              "\n",
              "    .dataframe thead th {\n",
              "        text-align: right;\n",
              "    }\n",
              "</style>\n",
              "<table border=\"1\" class=\"dataframe\">\n",
              "  <thead>\n",
              "    <tr style=\"text-align: right;\">\n",
              "      <th></th>\n",
              "      <th>Automotive &amp; Sports</th>\n",
              "      <th>Blanks</th>\n",
              "      <th>Cleantech / Semiconductors</th>\n",
              "      <th>Entertainment</th>\n",
              "      <th>Health</th>\n",
              "      <th>Manufacturing</th>\n",
              "      <th>News, Search and Messaging</th>\n",
              "      <th>Others</th>\n",
              "      <th>Social, Finance, Analytics, Advertising</th>\n",
              "    </tr>\n",
              "  </thead>\n",
              "  <tbody>\n",
              "    <tr>\n",
              "      <th>count</th>\n",
              "      <td>688.000000</td>\n",
              "      <td>688.000000</td>\n",
              "      <td>688.000000</td>\n",
              "      <td>688.000000</td>\n",
              "      <td>688.000000</td>\n",
              "      <td>688.000000</td>\n",
              "      <td>688.000000</td>\n",
              "      <td>688.000000</td>\n",
              "      <td>688.000000</td>\n",
              "    </tr>\n",
              "    <tr>\n",
              "      <th>mean</th>\n",
              "      <td>0.031977</td>\n",
              "      <td>0.001453</td>\n",
              "      <td>0.077035</td>\n",
              "      <td>0.129360</td>\n",
              "      <td>0.091570</td>\n",
              "      <td>0.058140</td>\n",
              "      <td>0.104651</td>\n",
              "      <td>0.283430</td>\n",
              "      <td>0.222384</td>\n",
              "    </tr>\n",
              "    <tr>\n",
              "      <th>std</th>\n",
              "      <td>0.176066</td>\n",
              "      <td>0.038125</td>\n",
              "      <td>0.266841</td>\n",
              "      <td>0.335843</td>\n",
              "      <td>0.288627</td>\n",
              "      <td>0.234177</td>\n",
              "      <td>0.306326</td>\n",
              "      <td>0.450991</td>\n",
              "      <td>0.416150</td>\n",
              "    </tr>\n",
              "    <tr>\n",
              "      <th>min</th>\n",
              "      <td>0.000000</td>\n",
              "      <td>0.000000</td>\n",
              "      <td>0.000000</td>\n",
              "      <td>0.000000</td>\n",
              "      <td>0.000000</td>\n",
              "      <td>0.000000</td>\n",
              "      <td>0.000000</td>\n",
              "      <td>0.000000</td>\n",
              "      <td>0.000000</td>\n",
              "    </tr>\n",
              "    <tr>\n",
              "      <th>25%</th>\n",
              "      <td>0.000000</td>\n",
              "      <td>0.000000</td>\n",
              "      <td>0.000000</td>\n",
              "      <td>0.000000</td>\n",
              "      <td>0.000000</td>\n",
              "      <td>0.000000</td>\n",
              "      <td>0.000000</td>\n",
              "      <td>0.000000</td>\n",
              "      <td>0.000000</td>\n",
              "    </tr>\n",
              "    <tr>\n",
              "      <th>50%</th>\n",
              "      <td>0.000000</td>\n",
              "      <td>0.000000</td>\n",
              "      <td>0.000000</td>\n",
              "      <td>0.000000</td>\n",
              "      <td>0.000000</td>\n",
              "      <td>0.000000</td>\n",
              "      <td>0.000000</td>\n",
              "      <td>0.000000</td>\n",
              "      <td>0.000000</td>\n",
              "    </tr>\n",
              "    <tr>\n",
              "      <th>75%</th>\n",
              "      <td>0.000000</td>\n",
              "      <td>0.000000</td>\n",
              "      <td>0.000000</td>\n",
              "      <td>0.000000</td>\n",
              "      <td>0.000000</td>\n",
              "      <td>0.000000</td>\n",
              "      <td>0.000000</td>\n",
              "      <td>1.000000</td>\n",
              "      <td>0.000000</td>\n",
              "    </tr>\n",
              "    <tr>\n",
              "      <th>max</th>\n",
              "      <td>1.000000</td>\n",
              "      <td>1.000000</td>\n",
              "      <td>1.000000</td>\n",
              "      <td>1.000000</td>\n",
              "      <td>1.000000</td>\n",
              "      <td>1.000000</td>\n",
              "      <td>1.000000</td>\n",
              "      <td>1.000000</td>\n",
              "      <td>1.000000</td>\n",
              "    </tr>\n",
              "  </tbody>\n",
              "</table>\n",
              "</div>"
            ],
            "text/plain": [
              "       Automotive & Sports  ...  Social, Finance, Analytics, Advertising\n",
              "count           688.000000  ...                               688.000000\n",
              "mean              0.031977  ...                                 0.222384\n",
              "std               0.176066  ...                                 0.416150\n",
              "min               0.000000  ...                                 0.000000\n",
              "25%               0.000000  ...                                 0.000000\n",
              "50%               0.000000  ...                                 0.000000\n",
              "75%               0.000000  ...                                 0.000000\n",
              "max               1.000000  ...                                 1.000000\n",
              "\n",
              "[8 rows x 9 columns]"
            ]
          },
          "metadata": {
            "tags": []
          },
          "execution_count": 389
        }
      ]
    },
    {
      "cell_type": "code",
      "metadata": {
        "colab": {
          "base_uri": "https://localhost:8080/"
        },
        "id": "JqApmvYoPYxG",
        "outputId": "b5cf9867-70c7-4453-b9bd-3267264253ac"
      },
      "source": [
        "mapping.isna().sum()"
      ],
      "execution_count": 390,
      "outputs": [
        {
          "output_type": "execute_result",
          "data": {
            "text/plain": [
              "category_list                              1\n",
              "Automotive & Sports                        0\n",
              "Blanks                                     0\n",
              "Cleantech / Semiconductors                 0\n",
              "Entertainment                              0\n",
              "Health                                     0\n",
              "Manufacturing                              0\n",
              "News, Search and Messaging                 0\n",
              "Others                                     0\n",
              "Social, Finance, Analytics, Advertising    0\n",
              "dtype: int64"
            ]
          },
          "metadata": {
            "tags": []
          },
          "execution_count": 390
        }
      ]
    },
    {
      "cell_type": "markdown",
      "metadata": {
        "id": "37MVwPnCmv_A"
      },
      "source": [
        "## Unique companies are present in rounds2\r\n",
        "##### We can see there is difference in the permalink values.Some of them are in lower and some of them are in upper case."
      ]
    },
    {
      "cell_type": "code",
      "metadata": {
        "id": "xcelFlkUTjzb"
      },
      "source": [
        "## Converting the primary key permalink to lower case for further merging of data\r\n",
        "rounds2[\"company_permalink\"] = rounds2[\"company_permalink\"].str.lower()\r\n",
        "companies[\"permalink\"] = companies[\"permalink\"].str.lower()"
      ],
      "execution_count": 391,
      "outputs": []
    },
    {
      "cell_type": "code",
      "metadata": {
        "colab": {
          "base_uri": "https://localhost:8080/"
        },
        "id": "_JCNAUq_VFwa",
        "outputId": "8bcc2e3b-c709-4b04-c5bb-8381c7f51eb9"
      },
      "source": [
        "# unique companies count in round2 file\r\n",
        "rounds2_unq=len(rounds2[\"company_permalink\"].unique())\r\n",
        "rounds2_unq"
      ],
      "execution_count": 392,
      "outputs": [
        {
          "output_type": "execute_result",
          "data": {
            "text/plain": [
              "66370"
            ]
          },
          "metadata": {
            "tags": []
          },
          "execution_count": 392
        }
      ]
    },
    {
      "cell_type": "code",
      "metadata": {
        "colab": {
          "base_uri": "https://localhost:8080/"
        },
        "id": "eW9LBtxjVK8O",
        "outputId": "a80429c4-2bd4-48ed-d089-1c7bd765e963"
      },
      "source": [
        "# unique companies count in compaines file\r\n",
        "companies_unq=len(companies.permalink.unique())\r\n",
        "companies_unq"
      ],
      "execution_count": 393,
      "outputs": [
        {
          "output_type": "execute_result",
          "data": {
            "text/plain": [
              "66368"
            ]
          },
          "metadata": {
            "tags": []
          },
          "execution_count": 393
        }
      ]
    },
    {
      "cell_type": "markdown",
      "metadata": {
        "id": "7B259I1wnBhk"
      },
      "source": [
        "## companies in the rounds2 file which are not present in companies file ?"
      ]
    },
    {
      "cell_type": "code",
      "metadata": {
        "colab": {
          "base_uri": "https://localhost:8080/",
          "height": 252
        },
        "id": "GNIIrI_6cmGV",
        "outputId": "84354d07-a01c-49f8-afd0-4fc2d15d6b55"
      },
      "source": [
        "## Comparing rounds2 with companies table.\r\n",
        "rounds2[~rounds2['company_permalink'].isin(companies['permalink'])]"
      ],
      "execution_count": 394,
      "outputs": [
        {
          "output_type": "execute_result",
          "data": {
            "text/html": [
              "<div>\n",
              "<style scoped>\n",
              "    .dataframe tbody tr th:only-of-type {\n",
              "        vertical-align: middle;\n",
              "    }\n",
              "\n",
              "    .dataframe tbody tr th {\n",
              "        vertical-align: top;\n",
              "    }\n",
              "\n",
              "    .dataframe thead th {\n",
              "        text-align: right;\n",
              "    }\n",
              "</style>\n",
              "<table border=\"1\" class=\"dataframe\">\n",
              "  <thead>\n",
              "    <tr style=\"text-align: right;\">\n",
              "      <th></th>\n",
              "      <th>company_permalink</th>\n",
              "      <th>funding_round_permalink</th>\n",
              "      <th>funding_round_type</th>\n",
              "      <th>funding_round_code</th>\n",
              "      <th>funded_at</th>\n",
              "      <th>raised_amount_usd</th>\n",
              "    </tr>\n",
              "  </thead>\n",
              "  <tbody>\n",
              "    <tr>\n",
              "      <th>29597</th>\n",
              "      <td>/organization/e-cãbica</td>\n",
              "      <td>/funding-round/8491f74869e4fe8ba9c378394f8fbdea</td>\n",
              "      <td>seed</td>\n",
              "      <td>NaN</td>\n",
              "      <td>01-02-2015</td>\n",
              "      <td>NaN</td>\n",
              "    </tr>\n",
              "    <tr>\n",
              "      <th>31863</th>\n",
              "      <td>/organization/energystone-games-çµç³æ¸¸æ</td>\n",
              "      <td>/funding-round/b89553f3d2279c5683ae93f45a21cfe0</td>\n",
              "      <td>seed</td>\n",
              "      <td>NaN</td>\n",
              "      <td>09-08-2014</td>\n",
              "      <td>NaN</td>\n",
              "    </tr>\n",
              "    <tr>\n",
              "      <th>45176</th>\n",
              "      <td>/organization/huizuche-com-æ ç§ÿè½¦</td>\n",
              "      <td>/funding-round/8f8a32dbeeb0f831a78702f83af78a36</td>\n",
              "      <td>seed</td>\n",
              "      <td>NaN</td>\n",
              "      <td>18-09-2014</td>\n",
              "      <td>NaN</td>\n",
              "    </tr>\n",
              "    <tr>\n",
              "      <th>58473</th>\n",
              "      <td>/organization/magnet-tech-ç£ç³ç§æ</td>\n",
              "      <td>/funding-round/8fc91fbb32bc95e97f151dd0cb4166bf</td>\n",
              "      <td>seed</td>\n",
              "      <td>NaN</td>\n",
              "      <td>16-08-2014</td>\n",
              "      <td>1625585.0</td>\n",
              "    </tr>\n",
              "    <tr>\n",
              "      <th>101036</th>\n",
              "      <td>/organization/tipcat-interactive-æ²èÿä¿¡æ¯ç...</td>\n",
              "      <td>/funding-round/41005928a1439cb2d706a43cb661f60f</td>\n",
              "      <td>seed</td>\n",
              "      <td>NaN</td>\n",
              "      <td>06-09-2010</td>\n",
              "      <td>NaN</td>\n",
              "    </tr>\n",
              "    <tr>\n",
              "      <th>109969</th>\n",
              "      <td>/organization/weiche-tech-åè½¦ç§æ</td>\n",
              "      <td>/funding-round/f74e457f838b81fa0b29649740f186d8</td>\n",
              "      <td>venture</td>\n",
              "      <td>A</td>\n",
              "      <td>06-09-2015</td>\n",
              "      <td>NaN</td>\n",
              "    </tr>\n",
              "    <tr>\n",
              "      <th>113839</th>\n",
              "      <td>/organization/zengame-ç¦æ¸¸ç§æ</td>\n",
              "      <td>/funding-round/6ba28fb4f3eadf5a9c6c81bc5dde6cdf</td>\n",
              "      <td>seed</td>\n",
              "      <td>NaN</td>\n",
              "      <td>17-07-2010</td>\n",
              "      <td>NaN</td>\n",
              "    </tr>\n",
              "  </tbody>\n",
              "</table>\n",
              "</div>"
            ],
            "text/plain": [
              "                                        company_permalink  ... raised_amount_usd\n",
              "29597                             /organization/e-cãbica  ...               NaN\n",
              "31863        /organization/energystone-games-çµç³æ¸¸æ  ...               NaN\n",
              "45176                /organization/huizuche-com-æ ç§ÿè½¦  ...               NaN\n",
              "58473              /organization/magnet-tech-ç£ç³ç§æ  ...         1625585.0\n",
              "101036  /organization/tipcat-interactive-æ²èÿä¿¡æ¯ç...  ...               NaN\n",
              "109969             /organization/weiche-tech-åè½¦ç§æ  ...               NaN\n",
              "113839                 /organization/zengame-ç¦\n",
              "æ¸¸ç§æ  ...               NaN\n",
              "\n",
              "[7 rows x 6 columns]"
            ]
          },
          "metadata": {
            "tags": []
          },
          "execution_count": 394
        }
      ]
    },
    {
      "cell_type": "code",
      "metadata": {
        "colab": {
          "base_uri": "https://localhost:8080/",
          "height": 194
        },
        "id": "jAia_sAcfz3K",
        "outputId": "97cfb94d-fabe-48e0-8055-84bee9ffd5aa"
      },
      "source": [
        "## Comparing companies with rounds2 table.\r\n",
        "companies[~companies['permalink'].isin(rounds2['company_permalink'])]"
      ],
      "execution_count": 395,
      "outputs": [
        {
          "output_type": "execute_result",
          "data": {
            "text/html": [
              "<div>\n",
              "<style scoped>\n",
              "    .dataframe tbody tr th:only-of-type {\n",
              "        vertical-align: middle;\n",
              "    }\n",
              "\n",
              "    .dataframe tbody tr th {\n",
              "        vertical-align: top;\n",
              "    }\n",
              "\n",
              "    .dataframe thead th {\n",
              "        text-align: right;\n",
              "    }\n",
              "</style>\n",
              "<table border=\"1\" class=\"dataframe\">\n",
              "  <thead>\n",
              "    <tr style=\"text-align: right;\">\n",
              "      <th></th>\n",
              "      <th>permalink</th>\n",
              "      <th>name</th>\n",
              "      <th>homepage_url</th>\n",
              "      <th>category_list</th>\n",
              "      <th>status</th>\n",
              "      <th>country_code</th>\n",
              "      <th>state_code</th>\n",
              "      <th>region</th>\n",
              "      <th>city</th>\n",
              "      <th>founded_at</th>\n",
              "    </tr>\n",
              "  </thead>\n",
              "  <tbody>\n",
              "    <tr>\n",
              "      <th>16827</th>\n",
              "      <td>/organization/e-cãbica</td>\n",
              "      <td>E CÃBICA</td>\n",
              "      <td>NaN</td>\n",
              "      <td>NaN</td>\n",
              "      <td>operating</td>\n",
              "      <td>NaN</td>\n",
              "      <td>NaN</td>\n",
              "      <td>NaN</td>\n",
              "      <td>NaN</td>\n",
              "      <td>NaN</td>\n",
              "    </tr>\n",
              "    <tr>\n",
              "      <th>18197</th>\n",
              "      <td>/organization/energystone-games-çµçÿ³æ¸¸æ</td>\n",
              "      <td>EnergyStone Games çµç³æ¸¸æ</td>\n",
              "      <td>NaN</td>\n",
              "      <td>Mobile Games|Online Gaming</td>\n",
              "      <td>closed</td>\n",
              "      <td>NaN</td>\n",
              "      <td>NaN</td>\n",
              "      <td>NaN</td>\n",
              "      <td>NaN</td>\n",
              "      <td>06-01-2013</td>\n",
              "    </tr>\n",
              "    <tr>\n",
              "      <th>26139</th>\n",
              "      <td>/organization/huizuche-com-æ ç§è½¦</td>\n",
              "      <td>Huizuche.com æ ç§è½¦</td>\n",
              "      <td>http://huizuche.com</td>\n",
              "      <td>NaN</td>\n",
              "      <td>closed</td>\n",
              "      <td>NaN</td>\n",
              "      <td>NaN</td>\n",
              "      <td>NaN</td>\n",
              "      <td>NaN</td>\n",
              "      <td>24-04-2014</td>\n",
              "    </tr>\n",
              "    <tr>\n",
              "      <th>58344</th>\n",
              "      <td>/organization/tipcat-interactive-æ²èä¿¡æ¯ç...</td>\n",
              "      <td>TipCat Interactive æ²èä¿¡æ¯ç§æ</td>\n",
              "      <td>http://www.tipcat.com</td>\n",
              "      <td>Mobile Games|Online Gaming</td>\n",
              "      <td>closed</td>\n",
              "      <td>NaN</td>\n",
              "      <td>NaN</td>\n",
              "      <td>NaN</td>\n",
              "      <td>NaN</td>\n",
              "      <td>18-08-2009</td>\n",
              "    </tr>\n",
              "    <tr>\n",
              "      <th>65778</th>\n",
              "      <td>/organization/zengame-ç¦æ¸¸ç§æ</td>\n",
              "      <td>ZenGame ç¦æ¸¸ç§æ</td>\n",
              "      <td>http://www.zen-game.com</td>\n",
              "      <td>Internet|Mobile Games|Online Gaming</td>\n",
              "      <td>closed</td>\n",
              "      <td>NaN</td>\n",
              "      <td>NaN</td>\n",
              "      <td>NaN</td>\n",
              "      <td>NaN</td>\n",
              "      <td>17-07-2010</td>\n",
              "    </tr>\n",
              "  </tbody>\n",
              "</table>\n",
              "</div>"
            ],
            "text/plain": [
              "                                               permalink  ...  founded_at\n",
              "16827                            /organization/e-cãbica  ...         NaN\n",
              "18197       /organization/energystone-games-çµçÿ³æ¸¸æ  ...  06-01-2013\n",
              "26139               /organization/huizuche-com-æ ç§è½¦  ...  24-04-2014\n",
              "58344  /organization/tipcat-interactive-æ²èä¿¡æ¯ç...  ...  18-08-2009\n",
              "65778                 /organization/zengame-ç¦\n",
              "æ¸¸ç§æ  ...  17-07-2010\n",
              "\n",
              "[5 rows x 10 columns]"
            ]
          },
          "metadata": {
            "tags": []
          },
          "execution_count": 395
        }
      ]
    },
    {
      "cell_type": "code",
      "metadata": {
        "id": "bYzxy-xqhj56"
      },
      "source": [
        "## There are some characters which we can't read. So, better remove these."
      ],
      "execution_count": 396,
      "outputs": []
    },
    {
      "cell_type": "code",
      "metadata": {
        "colab": {
          "base_uri": "https://localhost:8080/"
        },
        "id": "STrQwDqacwon",
        "outputId": "95e31987-eb1f-456d-db48-fdb3f0022762"
      },
      "source": [
        "rounds2.company_permalink = rounds2.company_permalink.str.encode('utf-8').str.decode('ascii', 'ignore') # Removing problematic characters\r\n",
        "\r\n",
        "print(f\"There are {rounds2.company_permalink.nunique()} unique rows in rounds2 table.\")"
      ],
      "execution_count": 397,
      "outputs": [
        {
          "output_type": "stream",
          "text": [
            "There are 66368 unique rows in rounds2 table.\n"
          ],
          "name": "stdout"
        }
      ]
    },
    {
      "cell_type": "code",
      "metadata": {
        "colab": {
          "base_uri": "https://localhost:8080/"
        },
        "id": "pJDlHIdkfUyr",
        "outputId": "9870cda8-8538-462b-edf9-c6eda5d0514c"
      },
      "source": [
        "companies.permalink = companies.permalink.str.encode('utf-8').str.decode('ascii', 'ignore') # Removing problematic characters\r\n",
        "\r\n",
        "print(f\"There are {companies.permalink.nunique()} unique rows in companies table.\")"
      ],
      "execution_count": 398,
      "outputs": [
        {
          "output_type": "stream",
          "text": [
            "There are 66368 unique rows in companies table.\n"
          ],
          "name": "stdout"
        }
      ]
    },
    {
      "cell_type": "code",
      "metadata": {
        "colab": {
          "base_uri": "https://localhost:8080/"
        },
        "id": "f4prfm5DdC2O",
        "outputId": "c18255d1-34c5-4a01-dc16-4207149257f5"
      },
      "source": [
        "rounds2_unq=len(rounds2[\"company_permalink\"].unique())\r\n",
        "rounds2_unq"
      ],
      "execution_count": 399,
      "outputs": [
        {
          "output_type": "execute_result",
          "data": {
            "text/plain": [
              "66368"
            ]
          },
          "metadata": {
            "tags": []
          },
          "execution_count": 399
        }
      ]
    },
    {
      "cell_type": "code",
      "metadata": {
        "colab": {
          "base_uri": "https://localhost:8080/"
        },
        "id": "kkGQ6Rp4dwuw",
        "outputId": "4deec622-b751-4285-ac0c-893c95b23ea0"
      },
      "source": [
        "companies_unq=len(companies.permalink.unique())\r\n",
        "companies_unq"
      ],
      "execution_count": 400,
      "outputs": [
        {
          "output_type": "execute_result",
          "data": {
            "text/plain": [
              "66368"
            ]
          },
          "metadata": {
            "tags": []
          },
          "execution_count": 400
        }
      ]
    },
    {
      "cell_type": "code",
      "metadata": {
        "colab": {
          "base_uri": "https://localhost:8080/",
          "height": 47
        },
        "id": "HhK7qjOGd5Uy",
        "outputId": "b4c17261-2092-4d23-c2df-aefd82c71cf0"
      },
      "source": [
        "## Again comparing rounds2 with companies table.\r\n",
        "rounds2[~rounds2['company_permalink'].isin(companies['permalink'])]"
      ],
      "execution_count": 401,
      "outputs": [
        {
          "output_type": "execute_result",
          "data": {
            "text/html": [
              "<div>\n",
              "<style scoped>\n",
              "    .dataframe tbody tr th:only-of-type {\n",
              "        vertical-align: middle;\n",
              "    }\n",
              "\n",
              "    .dataframe tbody tr th {\n",
              "        vertical-align: top;\n",
              "    }\n",
              "\n",
              "    .dataframe thead th {\n",
              "        text-align: right;\n",
              "    }\n",
              "</style>\n",
              "<table border=\"1\" class=\"dataframe\">\n",
              "  <thead>\n",
              "    <tr style=\"text-align: right;\">\n",
              "      <th></th>\n",
              "      <th>company_permalink</th>\n",
              "      <th>funding_round_permalink</th>\n",
              "      <th>funding_round_type</th>\n",
              "      <th>funding_round_code</th>\n",
              "      <th>funded_at</th>\n",
              "      <th>raised_amount_usd</th>\n",
              "    </tr>\n",
              "  </thead>\n",
              "  <tbody>\n",
              "  </tbody>\n",
              "</table>\n",
              "</div>"
            ],
            "text/plain": [
              "Empty DataFrame\n",
              "Columns: [company_permalink, funding_round_permalink, funding_round_type, funding_round_code, funded_at, raised_amount_usd]\n",
              "Index: []"
            ]
          },
          "metadata": {
            "tags": []
          },
          "execution_count": 401
        }
      ]
    },
    {
      "cell_type": "markdown",
      "metadata": {
        "id": "M1sm4XkbnZbo"
      },
      "source": [
        "#### * Merge the two data frames so that all  variables (columns)  in the companies frame are added to the rounds2 data frame. \r\n",
        "#### * Name the merged data frame as <b>\"master_frame\"</b>. \r\n",
        "## How many observations are present in master_frame?"
      ]
    },
    {
      "cell_type": "code",
      "metadata": {
        "colab": {
          "base_uri": "https://localhost:8080/",
          "height": 0
        },
        "id": "lVzG8Y2DiUVP",
        "outputId": "b7ca6d6b-fa21-4a18-e455-f63edfe0f09d"
      },
      "source": [
        "master_frame = pd.merge(rounds2,companies,how='inner',left_on='company_permalink',right_on='permalink')\r\n",
        "master_frame.head()"
      ],
      "execution_count": 402,
      "outputs": [
        {
          "output_type": "execute_result",
          "data": {
            "text/html": [
              "<div>\n",
              "<style scoped>\n",
              "    .dataframe tbody tr th:only-of-type {\n",
              "        vertical-align: middle;\n",
              "    }\n",
              "\n",
              "    .dataframe tbody tr th {\n",
              "        vertical-align: top;\n",
              "    }\n",
              "\n",
              "    .dataframe thead th {\n",
              "        text-align: right;\n",
              "    }\n",
              "</style>\n",
              "<table border=\"1\" class=\"dataframe\">\n",
              "  <thead>\n",
              "    <tr style=\"text-align: right;\">\n",
              "      <th></th>\n",
              "      <th>company_permalink</th>\n",
              "      <th>funding_round_permalink</th>\n",
              "      <th>funding_round_type</th>\n",
              "      <th>funding_round_code</th>\n",
              "      <th>funded_at</th>\n",
              "      <th>raised_amount_usd</th>\n",
              "      <th>permalink</th>\n",
              "      <th>name</th>\n",
              "      <th>homepage_url</th>\n",
              "      <th>category_list</th>\n",
              "      <th>status</th>\n",
              "      <th>country_code</th>\n",
              "      <th>state_code</th>\n",
              "      <th>region</th>\n",
              "      <th>city</th>\n",
              "      <th>founded_at</th>\n",
              "    </tr>\n",
              "  </thead>\n",
              "  <tbody>\n",
              "    <tr>\n",
              "      <th>0</th>\n",
              "      <td>/organization/-fame</td>\n",
              "      <td>/funding-round/9a01d05418af9f794eebff7ace91f638</td>\n",
              "      <td>venture</td>\n",
              "      <td>B</td>\n",
              "      <td>05-01-2015</td>\n",
              "      <td>10000000.0</td>\n",
              "      <td>/organization/-fame</td>\n",
              "      <td>#fame</td>\n",
              "      <td>http://livfame.com</td>\n",
              "      <td>Media</td>\n",
              "      <td>operating</td>\n",
              "      <td>IND</td>\n",
              "      <td>16</td>\n",
              "      <td>Mumbai</td>\n",
              "      <td>Mumbai</td>\n",
              "      <td>NaN</td>\n",
              "    </tr>\n",
              "    <tr>\n",
              "      <th>1</th>\n",
              "      <td>/organization/-qounter</td>\n",
              "      <td>/funding-round/22dacff496eb7acb2b901dec1dfe5633</td>\n",
              "      <td>venture</td>\n",
              "      <td>A</td>\n",
              "      <td>14-10-2014</td>\n",
              "      <td>NaN</td>\n",
              "      <td>/organization/-qounter</td>\n",
              "      <td>:Qounter</td>\n",
              "      <td>http://www.qounter.com</td>\n",
              "      <td>Application Platforms|Real Time|Social Network...</td>\n",
              "      <td>operating</td>\n",
              "      <td>USA</td>\n",
              "      <td>DE</td>\n",
              "      <td>DE - Other</td>\n",
              "      <td>Delaware City</td>\n",
              "      <td>04-09-2014</td>\n",
              "    </tr>\n",
              "    <tr>\n",
              "      <th>2</th>\n",
              "      <td>/organization/-qounter</td>\n",
              "      <td>/funding-round/b44fbb94153f6cdef13083530bb48030</td>\n",
              "      <td>seed</td>\n",
              "      <td>NaN</td>\n",
              "      <td>01-03-2014</td>\n",
              "      <td>700000.0</td>\n",
              "      <td>/organization/-qounter</td>\n",
              "      <td>:Qounter</td>\n",
              "      <td>http://www.qounter.com</td>\n",
              "      <td>Application Platforms|Real Time|Social Network...</td>\n",
              "      <td>operating</td>\n",
              "      <td>USA</td>\n",
              "      <td>DE</td>\n",
              "      <td>DE - Other</td>\n",
              "      <td>Delaware City</td>\n",
              "      <td>04-09-2014</td>\n",
              "    </tr>\n",
              "    <tr>\n",
              "      <th>3</th>\n",
              "      <td>/organization/-the-one-of-them-inc-</td>\n",
              "      <td>/funding-round/650b8f704416801069bb178a1418776b</td>\n",
              "      <td>venture</td>\n",
              "      <td>B</td>\n",
              "      <td>30-01-2014</td>\n",
              "      <td>3406878.0</td>\n",
              "      <td>/organization/-the-one-of-them-inc-</td>\n",
              "      <td>(THE) ONE of THEM,Inc.</td>\n",
              "      <td>http://oneofthem.jp</td>\n",
              "      <td>Apps|Games|Mobile</td>\n",
              "      <td>operating</td>\n",
              "      <td>NaN</td>\n",
              "      <td>NaN</td>\n",
              "      <td>NaN</td>\n",
              "      <td>NaN</td>\n",
              "      <td>NaN</td>\n",
              "    </tr>\n",
              "    <tr>\n",
              "      <th>4</th>\n",
              "      <td>/organization/0-6-com</td>\n",
              "      <td>/funding-round/5727accaeaa57461bd22a9bdd945382d</td>\n",
              "      <td>venture</td>\n",
              "      <td>A</td>\n",
              "      <td>19-03-2008</td>\n",
              "      <td>2000000.0</td>\n",
              "      <td>/organization/0-6-com</td>\n",
              "      <td>0-6.com</td>\n",
              "      <td>http://www.0-6.com</td>\n",
              "      <td>Curated Web</td>\n",
              "      <td>operating</td>\n",
              "      <td>CHN</td>\n",
              "      <td>22</td>\n",
              "      <td>Beijing</td>\n",
              "      <td>Beijing</td>\n",
              "      <td>01-01-2007</td>\n",
              "    </tr>\n",
              "  </tbody>\n",
              "</table>\n",
              "</div>"
            ],
            "text/plain": [
              "                     company_permalink  ...  founded_at\n",
              "0                  /organization/-fame  ...         NaN\n",
              "1               /organization/-qounter  ...  04-09-2014\n",
              "2               /organization/-qounter  ...  04-09-2014\n",
              "3  /organization/-the-one-of-them-inc-  ...         NaN\n",
              "4                /organization/0-6-com  ...  01-01-2007\n",
              "\n",
              "[5 rows x 16 columns]"
            ]
          },
          "metadata": {
            "tags": []
          },
          "execution_count": 402
        }
      ]
    },
    {
      "cell_type": "code",
      "metadata": {
        "colab": {
          "base_uri": "https://localhost:8080/"
        },
        "id": "REkc-BMSqEDJ",
        "outputId": "d135e467-6d9c-4f3a-a38b-eb9959b815dd"
      },
      "source": [
        "master_frame.shape"
      ],
      "execution_count": 403,
      "outputs": [
        {
          "output_type": "execute_result",
          "data": {
            "text/plain": [
              "(114949, 16)"
            ]
          },
          "metadata": {
            "tags": []
          },
          "execution_count": 403
        }
      ]
    },
    {
      "cell_type": "markdown",
      "metadata": {
        "id": "F5KyrlHTmOEJ"
      },
      "source": [
        "## Data Cleaning"
      ]
    },
    {
      "cell_type": "code",
      "metadata": {
        "colab": {
          "base_uri": "https://localhost:8080/"
        },
        "id": "bvKqfbmyq0_X",
        "outputId": "7e441676-ef5b-4422-e87a-ab7ba60e213d"
      },
      "source": [
        "master_frame.isna().sum()"
      ],
      "execution_count": 404,
      "outputs": [
        {
          "output_type": "execute_result",
          "data": {
            "text/plain": [
              "company_permalink              0\n",
              "funding_round_permalink        0\n",
              "funding_round_type             0\n",
              "funding_round_code         83809\n",
              "funded_at                      0\n",
              "raised_amount_usd          19990\n",
              "permalink                      0\n",
              "name                           1\n",
              "homepage_url                6134\n",
              "category_list               3410\n",
              "status                         0\n",
              "country_code                8678\n",
              "state_code                 10946\n",
              "region                     10167\n",
              "city                       10164\n",
              "founded_at                 20521\n",
              "dtype: int64"
            ]
          },
          "metadata": {
            "tags": []
          },
          "execution_count": 404
        }
      ]
    },
    {
      "cell_type": "code",
      "metadata": {
        "colab": {
          "base_uri": "https://localhost:8080/"
        },
        "id": "p6oNryo7tROt",
        "outputId": "12b54289-7e42-4ac3-9ba6-7c5c8d6f88b9"
      },
      "source": [
        "## Missing values per column expressed as % of total number of values\r\n",
        "round(100*(master_frame.isnull().sum()/len(master_frame.index)), 2)"
      ],
      "execution_count": 405,
      "outputs": [
        {
          "output_type": "execute_result",
          "data": {
            "text/plain": [
              "company_permalink           0.00\n",
              "funding_round_permalink     0.00\n",
              "funding_round_type          0.00\n",
              "funding_round_code         72.91\n",
              "funded_at                   0.00\n",
              "raised_amount_usd          17.39\n",
              "permalink                   0.00\n",
              "name                        0.00\n",
              "homepage_url                5.34\n",
              "category_list               2.97\n",
              "status                      0.00\n",
              "country_code                7.55\n",
              "state_code                  9.52\n",
              "region                      8.84\n",
              "city                        8.84\n",
              "founded_at                 17.85\n",
              "dtype: float64"
            ]
          },
          "metadata": {
            "tags": []
          },
          "execution_count": 405
        }
      ]
    },
    {
      "cell_type": "code",
      "metadata": {
        "id": "T5hKcoy-xSG7"
      },
      "source": [
        "## First we can remove the NULL values from \"raised_amount_usd\",\"country_code\" and \"category_list\" as these are the important columns for our analysis."
      ],
      "execution_count": 406,
      "outputs": []
    },
    {
      "cell_type": "code",
      "metadata": {
        "colab": {
          "base_uri": "https://localhost:8080/"
        },
        "id": "MDFTINJtzK1y",
        "outputId": "ed4f8b99-a099-4fca-b845-44f989e7cdcc"
      },
      "source": [
        "master_frame['raised_amount_usd'].isnull().sum()"
      ],
      "execution_count": 407,
      "outputs": [
        {
          "output_type": "execute_result",
          "data": {
            "text/plain": [
              "19990"
            ]
          },
          "metadata": {
            "tags": []
          },
          "execution_count": 407
        }
      ]
    },
    {
      "cell_type": "code",
      "metadata": {
        "id": "VEuzjMwcznjU"
      },
      "source": [
        "## Removal of NULL values\r\n",
        "master_frame=master_frame[~master_frame.raised_amount_usd.isnull()]"
      ],
      "execution_count": 408,
      "outputs": []
    },
    {
      "cell_type": "code",
      "metadata": {
        "colab": {
          "base_uri": "https://localhost:8080/"
        },
        "id": "PHNVHSgAzngX",
        "outputId": "379efd3a-5a9f-4095-d066-d99eef6cb71c"
      },
      "source": [
        "master_frame['raised_amount_usd'].isnull().sum()"
      ],
      "execution_count": 409,
      "outputs": [
        {
          "output_type": "execute_result",
          "data": {
            "text/plain": [
              "0"
            ]
          },
          "metadata": {
            "tags": []
          },
          "execution_count": 409
        }
      ]
    },
    {
      "cell_type": "code",
      "metadata": {
        "colab": {
          "base_uri": "https://localhost:8080/"
        },
        "id": "fMqbcgLu01V6",
        "outputId": "2f5c214a-5355-450e-9143-dd850d8d3970"
      },
      "source": [
        "master_frame['country_code'].isnull().sum()"
      ],
      "execution_count": 410,
      "outputs": [
        {
          "output_type": "execute_result",
          "data": {
            "text/plain": [
              "5851"
            ]
          },
          "metadata": {
            "tags": []
          },
          "execution_count": 410
        }
      ]
    },
    {
      "cell_type": "code",
      "metadata": {
        "id": "D_zsomr308G2"
      },
      "source": [
        "master_frame=master_frame[~master_frame.country_code.isnull()]"
      ],
      "execution_count": 411,
      "outputs": []
    },
    {
      "cell_type": "code",
      "metadata": {
        "colab": {
          "base_uri": "https://localhost:8080/"
        },
        "id": "4RuYLzw11E4z",
        "outputId": "33d9ae41-b5b5-4f7a-93ec-17f208cea307"
      },
      "source": [
        "master_frame['category_list'].isnull().sum()"
      ],
      "execution_count": 412,
      "outputs": [
        {
          "output_type": "execute_result",
          "data": {
            "text/plain": [
              "579"
            ]
          },
          "metadata": {
            "tags": []
          },
          "execution_count": 412
        }
      ]
    },
    {
      "cell_type": "code",
      "metadata": {
        "id": "HHDFSUlE1B8b"
      },
      "source": [
        "master_frame=master_frame[~master_frame.category_list.isnull()]"
      ],
      "execution_count": 413,
      "outputs": []
    },
    {
      "cell_type": "code",
      "metadata": {
        "colab": {
          "base_uri": "https://localhost:8080/"
        },
        "id": "d2k66YAtzto3",
        "outputId": "49764f86-98d9-452e-b227-d51801073bca"
      },
      "source": [
        "master_frame.shape"
      ],
      "execution_count": 414,
      "outputs": [
        {
          "output_type": "execute_result",
          "data": {
            "text/plain": [
              "(88529, 16)"
            ]
          },
          "metadata": {
            "tags": []
          },
          "execution_count": 414
        }
      ]
    },
    {
      "cell_type": "code",
      "metadata": {
        "colab": {
          "base_uri": "https://localhost:8080/"
        },
        "id": "-cYZoQudz6Li",
        "outputId": "552143d0-9e2f-4f7f-d4d9-5711ef941c3e"
      },
      "source": [
        "round(100*(master_frame.isnull().sum()/len(master_frame.index)), 2)"
      ],
      "execution_count": 415,
      "outputs": [
        {
          "output_type": "execute_result",
          "data": {
            "text/plain": [
              "company_permalink           0.00\n",
              "funding_round_permalink     0.00\n",
              "funding_round_type          0.00\n",
              "funding_round_code         69.75\n",
              "funded_at                   0.00\n",
              "raised_amount_usd           0.00\n",
              "permalink                   0.00\n",
              "name                        0.00\n",
              "homepage_url                3.67\n",
              "category_list               0.00\n",
              "status                      0.00\n",
              "country_code                0.00\n",
              "state_code                  1.96\n",
              "region                      1.34\n",
              "city                        1.33\n",
              "founded_at                 15.10\n",
              "dtype: float64"
            ]
          },
          "metadata": {
            "tags": []
          },
          "execution_count": 415
        }
      ]
    },
    {
      "cell_type": "code",
      "metadata": {
        "id": "qN5ml10k1Q1J"
      },
      "source": [
        "## Now we can remove the unwanted or Duplicate columns and non-contributing columns and also this data is not required for the analysis."
      ],
      "execution_count": 416,
      "outputs": []
    },
    {
      "cell_type": "code",
      "metadata": {
        "id": "LkZPosXKz8KB"
      },
      "source": [
        "master_frame = master_frame.drop('funding_round_code', axis=1)\r\n",
        "master_frame = master_frame.drop('founded_at', axis=1)\r\n",
        "master_frame = master_frame.drop('homepage_url', axis=1)\r\n",
        "master_frame = master_frame.drop('permalink', axis=1)"
      ],
      "execution_count": 417,
      "outputs": []
    },
    {
      "cell_type": "code",
      "metadata": {
        "colab": {
          "base_uri": "https://localhost:8080/"
        },
        "id": "yDimSm6R10CU",
        "outputId": "8b2a1e55-fee0-4184-907d-199e45e57f12"
      },
      "source": [
        "round(100*(master_frame.isnull().sum()/len(master_frame.index)), 2)\r\n"
      ],
      "execution_count": 418,
      "outputs": [
        {
          "output_type": "execute_result",
          "data": {
            "text/plain": [
              "company_permalink          0.00\n",
              "funding_round_permalink    0.00\n",
              "funding_round_type         0.00\n",
              "funded_at                  0.00\n",
              "raised_amount_usd          0.00\n",
              "name                       0.00\n",
              "category_list              0.00\n",
              "status                     0.00\n",
              "country_code               0.00\n",
              "state_code                 1.96\n",
              "region                     1.34\n",
              "city                       1.33\n",
              "dtype: float64"
            ]
          },
          "metadata": {
            "tags": []
          },
          "execution_count": 418
        }
      ]
    },
    {
      "cell_type": "code",
      "metadata": {
        "id": "T4mL3Asb122z"
      },
      "source": [
        "## We can now remove the remaining NULL values if required"
      ],
      "execution_count": 419,
      "outputs": []
    },
    {
      "cell_type": "code",
      "metadata": {
        "id": "MqVzHtLi2HvF"
      },
      "source": [
        "master_frame=master_frame[~master_frame.state_code.isnull()]\r\n",
        "master_frame=master_frame[~master_frame.region.isnull()]\r\n",
        "master_frame=master_frame[~master_frame.city.isnull()]"
      ],
      "execution_count": 420,
      "outputs": []
    },
    {
      "cell_type": "code",
      "metadata": {
        "colab": {
          "base_uri": "https://localhost:8080/"
        },
        "id": "rcdZYMON2dj1",
        "outputId": "764a5187-856b-45f7-9ade-b89c7c1e9ca4"
      },
      "source": [
        "round(100*(master_frame.isnull().sum()/len(master_frame.index)), 2)"
      ],
      "execution_count": 421,
      "outputs": [
        {
          "output_type": "execute_result",
          "data": {
            "text/plain": [
              "company_permalink          0.0\n",
              "funding_round_permalink    0.0\n",
              "funding_round_type         0.0\n",
              "funded_at                  0.0\n",
              "raised_amount_usd          0.0\n",
              "name                       0.0\n",
              "category_list              0.0\n",
              "status                     0.0\n",
              "country_code               0.0\n",
              "state_code                 0.0\n",
              "region                     0.0\n",
              "city                       0.0\n",
              "dtype: float64"
            ]
          },
          "metadata": {
            "tags": []
          },
          "execution_count": 421
        }
      ]
    },
    {
      "cell_type": "code",
      "metadata": {
        "id": "B2M9WRSP2fZL"
      },
      "source": [
        "## Now we have a very clean data for our analysis."
      ],
      "execution_count": 422,
      "outputs": []
    },
    {
      "cell_type": "markdown",
      "metadata": {
        "id": "R_zQs7EOmI1m"
      },
      "source": [
        "## Checkpoint 2: Funding Type Analysis"
      ]
    },
    {
      "cell_type": "code",
      "metadata": {
        "colab": {
          "base_uri": "https://localhost:8080/"
        },
        "id": "4XlKpxubn8Za",
        "outputId": "104cbeea-6233-4b7b-c7f7-aec706c8b7c8"
      },
      "source": [
        "master_frame['funding_round_type'].unique()"
      ],
      "execution_count": 423,
      "outputs": [
        {
          "output_type": "execute_result",
          "data": {
            "text/plain": [
              "array(['venture', 'seed', 'convertible_note', 'private_equity',\n",
              "       'debt_financing', 'angel', 'grant', 'undisclosed',\n",
              "       'equity_crowdfunding', 'post_ipo_equity', 'post_ipo_debt',\n",
              "       'product_crowdfunding', 'secondary_market',\n",
              "       'non_equity_assistance'], dtype=object)"
            ]
          },
          "metadata": {
            "tags": []
          },
          "execution_count": 423
        }
      ]
    },
    {
      "cell_type": "code",
      "metadata": {
        "colab": {
          "base_uri": "https://localhost:8080/"
        },
        "id": "RZ6fo8JI_04r",
        "outputId": "d226e5bf-64cb-4f29-d565-097046aa3e3b"
      },
      "source": [
        "# Frequency of every type of funding\r\n",
        "master_frame.funding_round_type.value_counts()"
      ],
      "execution_count": 424,
      "outputs": [
        {
          "output_type": "execute_result",
          "data": {
            "text/plain": [
              "venture                  46886\n",
              "seed                     20372\n",
              "debt_financing            6465\n",
              "angel                     4275\n",
              "grant                     1890\n",
              "private_equity            1763\n",
              "convertible_note          1298\n",
              "undisclosed               1251\n",
              "equity_crowdfunding       1099\n",
              "post_ipo_equity            585\n",
              "product_crowdfunding       323\n",
              "post_ipo_debt              150\n",
              "non_equity_assistance       59\n",
              "secondary_market            28\n",
              "Name: funding_round_type, dtype: int64"
            ]
          },
          "metadata": {
            "tags": []
          },
          "execution_count": 424
        }
      ]
    },
    {
      "cell_type": "code",
      "metadata": {
        "id": "i5b-4_55q8WK"
      },
      "source": [
        "## There are total 14 unique investment type available to choose from. As Spark fund is willing to invest between 5M to 15M per round. \r\n",
        "## Therefore,filtering rows with funding_round_type in seed,angel,venture,private_equity only. \r\n",
        "## We can drop all rows which are not of type venture, seed, angel, private_equity"
      ],
      "execution_count": 425,
      "outputs": []
    },
    {
      "cell_type": "code",
      "metadata": {
        "id": "pp7_76iDvUcc"
      },
      "source": [
        "master_frame=master_frame[master_frame['funding_round_type'].isin(['seed','angel','venture','private_equity'])]"
      ],
      "execution_count": 426,
      "outputs": []
    },
    {
      "cell_type": "code",
      "metadata": {
        "colab": {
          "base_uri": "https://localhost:8080/",
          "height": 401
        },
        "id": "Mgk_gEUHQSGP",
        "outputId": "6e74abf1-9c44-470e-c732-e1755683ee9d"
      },
      "source": [
        "round_types = master_frame.funding_round_type.value_counts()\r\n",
        "\r\n",
        "# Create a pieplot\r\n",
        "plt.pie(round_types.values, labels=round_types.index, radius=1.5, wedgeprops = { 'linewidth' : 6, 'edgecolor' : 'white' })\r\n",
        "\r\n",
        "# add a circle at the center\r\n",
        "my_circle=plt.Circle( (0,0), 1, color='white')\r\n",
        "p=plt.gcf()\r\n",
        "p.gca().add_artist(my_circle)\r\n",
        "\r\n",
        "plt.show()\r\n",
        "print(round_types)"
      ],
      "execution_count": 427,
      "outputs": [
        {
          "output_type": "display_data",
          "data": {
            "image/png": "[encoded data removed]",
            "text/plain": [
              "<Figure size 432x288 with 1 Axes>"
            ]
          },
          "metadata": {
            "tags": []
          }
        },
        {
          "output_type": "stream",
          "text": [
            "venture           46886\n",
            "seed              20372\n",
            "angel              4275\n",
            "private_equity     1763\n",
            "Name: funding_round_type, dtype: int64\n"
          ],
          "name": "stdout"
        }
      ]
    },
    {
      "cell_type": "code",
      "metadata": {
        "colab": {
          "base_uri": "https://localhost:8080/"
        },
        "id": "_WIYBzT-v8mo",
        "outputId": "5e1226dd-7aee-4544-aece-48435bec87b7"
      },
      "source": [
        "# We can choose aggregate functions mean to get the average funding raised for each funding types\r\n",
        "master_by_fundtype = master_frame.groupby('funding_round_type')\r\n",
        "mean = master_by_fundtype['raised_amount_usd'].mean().sort_values(ascending = False)\r\n",
        "mean"
      ],
      "execution_count": 428,
      "outputs": [
        {
          "output_type": "execute_result",
          "data": {
            "text/plain": [
              "funding_round_type\n",
              "private_equity    7.082810e+07\n",
              "venture           1.174273e+07\n",
              "angel             9.776435e+05\n",
              "seed              7.424031e+05\n",
              "Name: raised_amount_usd, dtype: float64"
            ]
          },
          "metadata": {
            "tags": []
          },
          "execution_count": 428
        }
      ]
    },
    {
      "cell_type": "code",
      "metadata": {
        "colab": {
          "base_uri": "https://localhost:8080/"
        },
        "id": "3Gau786rMrnI",
        "outputId": "9f413808-a958-4876-e531-464cc2351bdb"
      },
      "source": [
        "# Average funding amount for venture type\r\n",
        "venture_mean = master_frame[master_frame['funding_round_type']=='venture'].raised_amount_usd.mean()\r\n",
        "print(f\"Average funding amount raised: {round(venture_mean, 2)}\")"
      ],
      "execution_count": 429,
      "outputs": [
        {
          "output_type": "stream",
          "text": [
            "Average funding amount raised: 11742729.66\n"
          ],
          "name": "stdout"
        }
      ]
    },
    {
      "cell_type": "code",
      "metadata": {
        "colab": {
          "base_uri": "https://localhost:8080/"
        },
        "id": "7vu4_25EN6Eo",
        "outputId": "c9fd8ef4-fc74-47e2-b9a4-1bb2454bd146"
      },
      "source": [
        "# Average funding amount for seed type\r\n",
        "seed_mean = master_frame[master_frame['funding_round_type']=='seed'].raised_amount_usd.mean()\r\n",
        "print(f\"Average funding amount raised: {round(seed_mean, 2)}\")"
      ],
      "execution_count": 430,
      "outputs": [
        {
          "output_type": "stream",
          "text": [
            "Average funding amount raised: 742403.12\n"
          ],
          "name": "stdout"
        }
      ]
    },
    {
      "cell_type": "code",
      "metadata": {
        "colab": {
          "base_uri": "https://localhost:8080/"
        },
        "id": "kgP7ycUWOapQ",
        "outputId": "eb5e067b-aebd-45be-b111-368533b5e46b"
      },
      "source": [
        "# Average funding amount for private equity type\r\n",
        "equity_mean = master_frame[master_frame['funding_round_type']=='private_equity'].raised_amount_usd.mean()\r\n",
        "print(f\"Average funding amount raised: {round(equity_mean, 2)}\")"
      ],
      "execution_count": 431,
      "outputs": [
        {
          "output_type": "stream",
          "text": [
            "Average funding amount raised: 70828095.71\n"
          ],
          "name": "stdout"
        }
      ]
    },
    {
      "cell_type": "code",
      "metadata": {
        "colab": {
          "base_uri": "https://localhost:8080/"
        },
        "id": "DrQVpKaBOcXh",
        "outputId": "c26aa2b3-48d3-4bbb-b9cd-c6351ba7f747"
      },
      "source": [
        "# Average funding amount for angel type\r\n",
        "angel_mean = master_frame[master_frame['funding_round_type']=='angel'].raised_amount_usd.mean()\r\n",
        "print(f\"Average funding amount raised: {round(angel_mean, 2)}\")"
      ],
      "execution_count": 432,
      "outputs": [
        {
          "output_type": "stream",
          "text": [
            "Average funding amount raised: 977643.53\n"
          ],
          "name": "stdout"
        }
      ]
    },
    {
      "cell_type": "code",
      "metadata": {
        "colab": {
          "base_uri": "https://localhost:8080/",
          "height": 296
        },
        "id": "JVZZABdZzAxE",
        "outputId": "83e85ed1-b146-4ff0-bc25-d0ce9e56f6a7"
      },
      "source": [
        "plt.figure(figsize=(25, 20))\r\n",
        "ax1 = plt.subplot(4, 4, 1)\r\n",
        "ax2 = plt.subplot(4, 4, 3)\r\n",
        "sns.barplot(x=round_types.index, y=[venture_mean, seed_mean, angel_mean, equity_mean], ax=ax1)\r\n",
        "sns.barplot(x=round_types.index[1:3], y=[seed_mean, angel_mean], ax=ax2)\r\n",
        "plt.show()"
      ],
      "execution_count": 433,
      "outputs": [
        {
          "output_type": "display_data",
          "data": {
            "image/png": "[encoded data removed]",
            "text/plain": [
              "<Figure size 1800x1440 with 2 Axes>"
            ]
          },
          "metadata": {
            "tags": [],
            "needs_background": "light"
          }
        }
      ]
    },
    {
      "cell_type": "code",
      "metadata": {
        "colab": {
          "base_uri": "https://localhost:8080/"
        },
        "id": "SR3Fgc4ewFxP",
        "outputId": "6dda0628-a682-4727-fa72-4d0c5a017a02"
      },
      "source": [
        "# Finding Most suitable investment type\r\n",
        "invest_dict = {'venture': venture_mean, 'angel': angel_mean, 'seed': seed_mean, 'equity': equity_mean}\r\n",
        "for invest_type in invest_dict:\r\n",
        "    if invest_dict[invest_type] > 5000000 and invest_dict[invest_type] < 15000000:\r\n",
        "        print(f\"Most suitable investment type for Spark Funds is: {invest_type}\")"
      ],
      "execution_count": 434,
      "outputs": [
        {
          "output_type": "stream",
          "text": [
            "Most suitable investment type for Spark Funds is: venture\n"
          ],
          "name": "stdout"
        }
      ]
    },
    {
      "cell_type": "markdown",
      "metadata": {
        "id": "tgXf4NI8l1dl"
      },
      "source": [
        "## Checkpoint 3: Country Analysis"
      ]
    },
    {
      "cell_type": "code",
      "metadata": {
        "id": "bb4i5qhVwKRq"
      },
      "source": [
        "## Further filtering the data so that it only contains the data for the investment type i.e venture"
      ],
      "execution_count": 435,
      "outputs": []
    },
    {
      "cell_type": "code",
      "metadata": {
        "colab": {
          "base_uri": "https://localhost:8080/"
        },
        "id": "Pga3d0zckbfU",
        "outputId": "6c28222e-c34e-4877-c991-3962bac5bee5"
      },
      "source": [
        "venture_df = master_frame[master_frame[\"funding_round_type\"]==\"venture\"]\r\n",
        "venture_df.shape"
      ],
      "execution_count": 436,
      "outputs": [
        {
          "output_type": "execute_result",
          "data": {
            "text/plain": [
              "(46886, 12)"
            ]
          },
          "metadata": {
            "tags": []
          },
          "execution_count": 436
        }
      ]
    },
    {
      "cell_type": "code",
      "metadata": {
        "id": "7TOb_4MVitD7"
      },
      "source": [
        "## Finding top 10 countries which have received the highest total funding. This can be done by looking at the aggregation of the raised amount in each country."
      ],
      "execution_count": 437,
      "outputs": []
    },
    {
      "cell_type": "code",
      "metadata": {
        "colab": {
          "base_uri": "https://localhost:8080/"
        },
        "id": "X3LWb2-fivrV",
        "outputId": "f9a8aaca-34d7-4596-ebf5-68353e478a9a"
      },
      "source": [
        "venture_by_country = venture_df.groupby('country_code')\r\n",
        "venture_by_country['raised_amount_usd'].sum().sort_values(ascending=False).head(10)"
      ],
      "execution_count": 438,
      "outputs": [
        {
          "output_type": "execute_result",
          "data": {
            "text/plain": [
              "country_code\n",
              "USA    4.194432e+11\n",
              "CHN    3.695087e+10\n",
              "GBR    1.923553e+10\n",
              "IND    1.416781e+10\n",
              "CAN    9.435487e+09\n",
              "FRA    6.825021e+09\n",
              "ISR    6.551761e+09\n",
              "DEU    6.180782e+09\n",
              "JPN    3.018150e+09\n",
              "SWE    3.017689e+09\n",
              "Name: raised_amount_usd, dtype: float64"
            ]
          },
          "metadata": {
            "tags": []
          },
          "execution_count": 438
        }
      ]
    },
    {
      "cell_type": "code",
      "metadata": {
        "id": "Fm3UCylXi5mM"
      },
      "source": [
        "top10 = venture_df[venture_df['country_code'].isin([\"USA\",\"CHN\",\"GBR\",\"IND\",\"CAN\",\"FRA\",\"ISR\",\"DEU\",\"JPN\",\"SWE\"])]"
      ],
      "execution_count": 439,
      "outputs": []
    },
    {
      "cell_type": "code",
      "metadata": {
        "id": "hKPICmpHjBJC"
      },
      "source": [
        "top10=top10[~top10.category_list.isnull()]"
      ],
      "execution_count": 440,
      "outputs": []
    },
    {
      "cell_type": "code",
      "metadata": {
        "colab": {
          "base_uri": "https://localhost:8080/",
          "height": 640
        },
        "id": "9BvMReunwWuS",
        "outputId": "26fc2bcf-6fba-43c4-e14d-5cca18a9e885"
      },
      "source": [
        "# Plotting sum across top 10 country_code \r\n",
        "\r\n",
        "plt.figure(figsize=(20, 10))\r\n",
        "plt.subplot(1, 2, 1)\r\n",
        "sns.countplot(x=\"country_code\", data=top10)\r\n",
        "plt.title(\"Count\")\r\n",
        "plt.show()\r\n",
        "print(\"Top 3 english speaking countries in order are: USA, GBR, IND\")"
      ],
      "execution_count": 441,
      "outputs": [
        {
          "output_type": "display_data",
          "data": {
            "image/png": "[encoded data removed]",
            "text/plain": [
              "<Figure size 1440x720 with 1 Axes>"
            ]
          },
          "metadata": {
            "tags": [],
            "needs_background": "light"
          }
        },
        {
          "output_type": "stream",
          "text": [
            "Top 3 english speaking countries in order are: USA, GBR, IND\n"
          ],
          "name": "stdout"
        }
      ]
    },
    {
      "cell_type": "code",
      "metadata": {
        "colab": {
          "base_uri": "https://localhost:8080/",
          "height": 529
        },
        "id": "-aP2UyZJmCQU",
        "outputId": "1f55a6fc-afcd-4e54-ce32-7c6603f511a2"
      },
      "source": [
        "top10.head(10)"
      ],
      "execution_count": 442,
      "outputs": [
        {
          "output_type": "execute_result",
          "data": {
            "text/html": [
              "<div>\n",
              "<style scoped>\n",
              "    .dataframe tbody tr th:only-of-type {\n",
              "        vertical-align: middle;\n",
              "    }\n",
              "\n",
              "    .dataframe tbody tr th {\n",
              "        vertical-align: top;\n",
              "    }\n",
              "\n",
              "    .dataframe thead th {\n",
              "        text-align: right;\n",
              "    }\n",
              "</style>\n",
              "<table border=\"1\" class=\"dataframe\">\n",
              "  <thead>\n",
              "    <tr style=\"text-align: right;\">\n",
              "      <th></th>\n",
              "      <th>company_permalink</th>\n",
              "      <th>funding_round_permalink</th>\n",
              "      <th>funding_round_type</th>\n",
              "      <th>funded_at</th>\n",
              "      <th>raised_amount_usd</th>\n",
              "      <th>name</th>\n",
              "      <th>category_list</th>\n",
              "      <th>status</th>\n",
              "      <th>country_code</th>\n",
              "      <th>state_code</th>\n",
              "      <th>region</th>\n",
              "      <th>city</th>\n",
              "    </tr>\n",
              "  </thead>\n",
              "  <tbody>\n",
              "    <tr>\n",
              "      <th>0</th>\n",
              "      <td>/organization/-fame</td>\n",
              "      <td>/funding-round/9a01d05418af9f794eebff7ace91f638</td>\n",
              "      <td>venture</td>\n",
              "      <td>05-01-2015</td>\n",
              "      <td>10000000.0</td>\n",
              "      <td>#fame</td>\n",
              "      <td>Media</td>\n",
              "      <td>operating</td>\n",
              "      <td>IND</td>\n",
              "      <td>16</td>\n",
              "      <td>Mumbai</td>\n",
              "      <td>Mumbai</td>\n",
              "    </tr>\n",
              "    <tr>\n",
              "      <th>4</th>\n",
              "      <td>/organization/0-6-com</td>\n",
              "      <td>/funding-round/5727accaeaa57461bd22a9bdd945382d</td>\n",
              "      <td>venture</td>\n",
              "      <td>19-03-2008</td>\n",
              "      <td>2000000.0</td>\n",
              "      <td>0-6.com</td>\n",
              "      <td>Curated Web</td>\n",
              "      <td>operating</td>\n",
              "      <td>CHN</td>\n",
              "      <td>22</td>\n",
              "      <td>Beijing</td>\n",
              "      <td>Beijing</td>\n",
              "    </tr>\n",
              "    <tr>\n",
              "      <th>8</th>\n",
              "      <td>/organization/0ndine-biomedical-inc</td>\n",
              "      <td>/funding-round/954b9499724b946ad8c396a57a5f3b72</td>\n",
              "      <td>venture</td>\n",
              "      <td>21-12-2009</td>\n",
              "      <td>719491.0</td>\n",
              "      <td>Ondine Biomedical Inc.</td>\n",
              "      <td>Biotechnology</td>\n",
              "      <td>operating</td>\n",
              "      <td>CAN</td>\n",
              "      <td>BC</td>\n",
              "      <td>Vancouver</td>\n",
              "      <td>Vancouver</td>\n",
              "    </tr>\n",
              "    <tr>\n",
              "      <th>10</th>\n",
              "      <td>/organization/0xdata</td>\n",
              "      <td>/funding-round/3bb2ee4a2d89251a10aaa735b1180e44</td>\n",
              "      <td>venture</td>\n",
              "      <td>09-11-2015</td>\n",
              "      <td>20000000.0</td>\n",
              "      <td>H2O.ai</td>\n",
              "      <td>Analytics</td>\n",
              "      <td>operating</td>\n",
              "      <td>USA</td>\n",
              "      <td>CA</td>\n",
              "      <td>SF Bay Area</td>\n",
              "      <td>Mountain View</td>\n",
              "    </tr>\n",
              "    <tr>\n",
              "      <th>11</th>\n",
              "      <td>/organization/0xdata</td>\n",
              "      <td>/funding-round/ae2a174c06517c2394aed45006322a7e</td>\n",
              "      <td>venture</td>\n",
              "      <td>03-01-2013</td>\n",
              "      <td>1700000.0</td>\n",
              "      <td>H2O.ai</td>\n",
              "      <td>Analytics</td>\n",
              "      <td>operating</td>\n",
              "      <td>USA</td>\n",
              "      <td>CA</td>\n",
              "      <td>SF Bay Area</td>\n",
              "      <td>Mountain View</td>\n",
              "    </tr>\n",
              "    <tr>\n",
              "      <th>12</th>\n",
              "      <td>/organization/0xdata</td>\n",
              "      <td>/funding-round/e1cfcbe1bdf4c70277c5f29a3482f24e</td>\n",
              "      <td>venture</td>\n",
              "      <td>19-07-2014</td>\n",
              "      <td>8900000.0</td>\n",
              "      <td>H2O.ai</td>\n",
              "      <td>Analytics</td>\n",
              "      <td>operating</td>\n",
              "      <td>USA</td>\n",
              "      <td>CA</td>\n",
              "      <td>SF Bay Area</td>\n",
              "      <td>Mountain View</td>\n",
              "    </tr>\n",
              "    <tr>\n",
              "      <th>22</th>\n",
              "      <td>/organization/1-mainstream</td>\n",
              "      <td>/funding-round/b952cbaf401f310927430c97b68162ea</td>\n",
              "      <td>venture</td>\n",
              "      <td>17-03-2015</td>\n",
              "      <td>5000000.0</td>\n",
              "      <td>1 Mainstream</td>\n",
              "      <td>Apps|Cable|Distribution|Software</td>\n",
              "      <td>acquired</td>\n",
              "      <td>USA</td>\n",
              "      <td>CA</td>\n",
              "      <td>SF Bay Area</td>\n",
              "      <td>Cupertino</td>\n",
              "    </tr>\n",
              "    <tr>\n",
              "      <th>28</th>\n",
              "      <td>/organization/10-minutes-with</td>\n",
              "      <td>/funding-round/0faccbbcc5818dc5326469f13f5a8ac8</td>\n",
              "      <td>venture</td>\n",
              "      <td>09-10-2014</td>\n",
              "      <td>4000000.0</td>\n",
              "      <td>10 Minutes With</td>\n",
              "      <td>Education</td>\n",
              "      <td>operating</td>\n",
              "      <td>GBR</td>\n",
              "      <td>H9</td>\n",
              "      <td>London</td>\n",
              "      <td>London</td>\n",
              "    </tr>\n",
              "    <tr>\n",
              "      <th>34</th>\n",
              "      <td>/organization/1000memories</td>\n",
              "      <td>/funding-round/502bd0e50c27616995e4bdad24605ef8</td>\n",
              "      <td>venture</td>\n",
              "      <td>16-02-2011</td>\n",
              "      <td>2520000.0</td>\n",
              "      <td>1000memories</td>\n",
              "      <td>Curated Web</td>\n",
              "      <td>acquired</td>\n",
              "      <td>USA</td>\n",
              "      <td>CA</td>\n",
              "      <td>SF Bay Area</td>\n",
              "      <td>San Francisco</td>\n",
              "    </tr>\n",
              "    <tr>\n",
              "      <th>38</th>\n",
              "      <td>/organization/1000museums-com</td>\n",
              "      <td>/funding-round/13be128d655076a025221d7fddc90d68</td>\n",
              "      <td>venture</td>\n",
              "      <td>14-10-2009</td>\n",
              "      <td>265940.0</td>\n",
              "      <td>1000museums.com</td>\n",
              "      <td>Curated Web</td>\n",
              "      <td>operating</td>\n",
              "      <td>USA</td>\n",
              "      <td>MA</td>\n",
              "      <td>MA - Other</td>\n",
              "      <td>Lenox</td>\n",
              "    </tr>\n",
              "  </tbody>\n",
              "</table>\n",
              "</div>"
            ],
            "text/plain": [
              "                      company_permalink  ...           city\n",
              "0                   /organization/-fame  ...         Mumbai\n",
              "4                 /organization/0-6-com  ...        Beijing\n",
              "8   /organization/0ndine-biomedical-inc  ...      Vancouver\n",
              "10                 /organization/0xdata  ...  Mountain View\n",
              "11                 /organization/0xdata  ...  Mountain View\n",
              "12                 /organization/0xdata  ...  Mountain View\n",
              "22           /organization/1-mainstream  ...      Cupertino\n",
              "28        /organization/10-minutes-with  ...         London\n",
              "34           /organization/1000memories  ...  San Francisco\n",
              "38        /organization/1000museums-com  ...          Lenox\n",
              "\n",
              "[10 rows x 12 columns]"
            ]
          },
          "metadata": {
            "tags": []
          },
          "execution_count": 442
        }
      ]
    },
    {
      "cell_type": "code",
      "metadata": {
        "colab": {
          "base_uri": "https://localhost:8080/"
        },
        "id": "3zd1uXJUift7",
        "outputId": "18287e51-5fe7-4c4b-a38f-0461869fae7f"
      },
      "source": [
        "# Let's now create a new data frame with only these 3 countires data.\r\n",
        "top3_english = top10[top10['country_code'].isin(['USA', 'GBR', 'IND'])]\r\n",
        "top3_english.groupby('country_code')['raised_amount_usd'].sum().sort_values(ascending=False)"
      ],
      "execution_count": 443,
      "outputs": [
        {
          "output_type": "execute_result",
          "data": {
            "text/plain": [
              "country_code\n",
              "USA    4.194432e+11\n",
              "GBR    1.923553e+10\n",
              "IND    1.416781e+10\n",
              "Name: raised_amount_usd, dtype: float64"
            ]
          },
          "metadata": {
            "tags": []
          },
          "execution_count": 443
        }
      ]
    },
    {
      "cell_type": "code",
      "metadata": {
        "colab": {
          "base_uri": "https://localhost:8080/",
          "height": 622
        },
        "id": "Pg9zmuT2iplj",
        "outputId": "61079554-3213-4f60-abc9-298e3f8271c4"
      },
      "source": [
        "# Plotting sum across top 3 english official language country_code \r\n",
        "plt.figure(figsize=(20, 10))\r\n",
        "plt.subplot(1, 2, 1)\r\n",
        "sns.countplot(x=\"country_code\", data=top3_english)\r\n",
        "plt.title(\"Count\")\r\n",
        "plt.subplot(1, 2, 2)\r\n",
        "sns.barplot(x=\"country_code\", y=\"raised_amount_usd\", data=top3_english, estimator=sum)\r\n",
        "plt.title(\"Sum\")\r\n",
        "plt.show()"
      ],
      "execution_count": 444,
      "outputs": [
        {
          "output_type": "display_data",
          "data": {
            "image/png": "[encoded data removed]",
            "text/plain": [
              "<Figure size 1440x720 with 2 Axes>"
            ]
          },
          "metadata": {
            "tags": [],
            "needs_background": "light"
          }
        }
      ]
    },
    {
      "cell_type": "code",
      "metadata": {
        "id": "nyKlxl7VmP-J"
      },
      "source": [
        "## Here we can see there is a \"|\" symbol in category_list. For some companies, the category list is a list of multiple sub-sectors separated by a pipe (vertical bar |). \r\n",
        "## For example, one of the companies’ category_list is Apps|Cable|Distribution|Software.\r\n",
        "## So, we have to Extract the primary sector in separate column category_list of each category list from the category_list column by selecting 1st value before '|' symbol."
      ],
      "execution_count": 445,
      "outputs": []
    },
    {
      "cell_type": "code",
      "metadata": {
        "colab": {
          "base_uri": "https://localhost:8080/",
          "height": 529
        },
        "id": "AXCgxs5acF5A",
        "outputId": "db5528bf-3f4e-418b-f5d0-c774b22da275"
      },
      "source": [
        "top10['primary_sector'] = top10['category_list'].astype(str).apply(lambda x: x.split('|')[0])\r\n",
        "top10.head(10)"
      ],
      "execution_count": 446,
      "outputs": [
        {
          "output_type": "execute_result",
          "data": {
            "text/html": [
              "<div>\n",
              "<style scoped>\n",
              "    .dataframe tbody tr th:only-of-type {\n",
              "        vertical-align: middle;\n",
              "    }\n",
              "\n",
              "    .dataframe tbody tr th {\n",
              "        vertical-align: top;\n",
              "    }\n",
              "\n",
              "    .dataframe thead th {\n",
              "        text-align: right;\n",
              "    }\n",
              "</style>\n",
              "<table border=\"1\" class=\"dataframe\">\n",
              "  <thead>\n",
              "    <tr style=\"text-align: right;\">\n",
              "      <th></th>\n",
              "      <th>company_permalink</th>\n",
              "      <th>funding_round_permalink</th>\n",
              "      <th>funding_round_type</th>\n",
              "      <th>funded_at</th>\n",
              "      <th>raised_amount_usd</th>\n",
              "      <th>name</th>\n",
              "      <th>category_list</th>\n",
              "      <th>status</th>\n",
              "      <th>country_code</th>\n",
              "      <th>state_code</th>\n",
              "      <th>region</th>\n",
              "      <th>city</th>\n",
              "      <th>primary_sector</th>\n",
              "    </tr>\n",
              "  </thead>\n",
              "  <tbody>\n",
              "    <tr>\n",
              "      <th>0</th>\n",
              "      <td>/organization/-fame</td>\n",
              "      <td>/funding-round/9a01d05418af9f794eebff7ace91f638</td>\n",
              "      <td>venture</td>\n",
              "      <td>05-01-2015</td>\n",
              "      <td>10000000.0</td>\n",
              "      <td>#fame</td>\n",
              "      <td>Media</td>\n",
              "      <td>operating</td>\n",
              "      <td>IND</td>\n",
              "      <td>16</td>\n",
              "      <td>Mumbai</td>\n",
              "      <td>Mumbai</td>\n",
              "      <td>Media</td>\n",
              "    </tr>\n",
              "    <tr>\n",
              "      <th>4</th>\n",
              "      <td>/organization/0-6-com</td>\n",
              "      <td>/funding-round/5727accaeaa57461bd22a9bdd945382d</td>\n",
              "      <td>venture</td>\n",
              "      <td>19-03-2008</td>\n",
              "      <td>2000000.0</td>\n",
              "      <td>0-6.com</td>\n",
              "      <td>Curated Web</td>\n",
              "      <td>operating</td>\n",
              "      <td>CHN</td>\n",
              "      <td>22</td>\n",
              "      <td>Beijing</td>\n",
              "      <td>Beijing</td>\n",
              "      <td>Curated Web</td>\n",
              "    </tr>\n",
              "    <tr>\n",
              "      <th>8</th>\n",
              "      <td>/organization/0ndine-biomedical-inc</td>\n",
              "      <td>/funding-round/954b9499724b946ad8c396a57a5f3b72</td>\n",
              "      <td>venture</td>\n",
              "      <td>21-12-2009</td>\n",
              "      <td>719491.0</td>\n",
              "      <td>Ondine Biomedical Inc.</td>\n",
              "      <td>Biotechnology</td>\n",
              "      <td>operating</td>\n",
              "      <td>CAN</td>\n",
              "      <td>BC</td>\n",
              "      <td>Vancouver</td>\n",
              "      <td>Vancouver</td>\n",
              "      <td>Biotechnology</td>\n",
              "    </tr>\n",
              "    <tr>\n",
              "      <th>10</th>\n",
              "      <td>/organization/0xdata</td>\n",
              "      <td>/funding-round/3bb2ee4a2d89251a10aaa735b1180e44</td>\n",
              "      <td>venture</td>\n",
              "      <td>09-11-2015</td>\n",
              "      <td>20000000.0</td>\n",
              "      <td>H2O.ai</td>\n",
              "      <td>Analytics</td>\n",
              "      <td>operating</td>\n",
              "      <td>USA</td>\n",
              "      <td>CA</td>\n",
              "      <td>SF Bay Area</td>\n",
              "      <td>Mountain View</td>\n",
              "      <td>Analytics</td>\n",
              "    </tr>\n",
              "    <tr>\n",
              "      <th>11</th>\n",
              "      <td>/organization/0xdata</td>\n",
              "      <td>/funding-round/ae2a174c06517c2394aed45006322a7e</td>\n",
              "      <td>venture</td>\n",
              "      <td>03-01-2013</td>\n",
              "      <td>1700000.0</td>\n",
              "      <td>H2O.ai</td>\n",
              "      <td>Analytics</td>\n",
              "      <td>operating</td>\n",
              "      <td>USA</td>\n",
              "      <td>CA</td>\n",
              "      <td>SF Bay Area</td>\n",
              "      <td>Mountain View</td>\n",
              "      <td>Analytics</td>\n",
              "    </tr>\n",
              "    <tr>\n",
              "      <th>12</th>\n",
              "      <td>/organization/0xdata</td>\n",
              "      <td>/funding-round/e1cfcbe1bdf4c70277c5f29a3482f24e</td>\n",
              "      <td>venture</td>\n",
              "      <td>19-07-2014</td>\n",
              "      <td>8900000.0</td>\n",
              "      <td>H2O.ai</td>\n",
              "      <td>Analytics</td>\n",
              "      <td>operating</td>\n",
              "      <td>USA</td>\n",
              "      <td>CA</td>\n",
              "      <td>SF Bay Area</td>\n",
              "      <td>Mountain View</td>\n",
              "      <td>Analytics</td>\n",
              "    </tr>\n",
              "    <tr>\n",
              "      <th>22</th>\n",
              "      <td>/organization/1-mainstream</td>\n",
              "      <td>/funding-round/b952cbaf401f310927430c97b68162ea</td>\n",
              "      <td>venture</td>\n",
              "      <td>17-03-2015</td>\n",
              "      <td>5000000.0</td>\n",
              "      <td>1 Mainstream</td>\n",
              "      <td>Apps|Cable|Distribution|Software</td>\n",
              "      <td>acquired</td>\n",
              "      <td>USA</td>\n",
              "      <td>CA</td>\n",
              "      <td>SF Bay Area</td>\n",
              "      <td>Cupertino</td>\n",
              "      <td>Apps</td>\n",
              "    </tr>\n",
              "    <tr>\n",
              "      <th>28</th>\n",
              "      <td>/organization/10-minutes-with</td>\n",
              "      <td>/funding-round/0faccbbcc5818dc5326469f13f5a8ac8</td>\n",
              "      <td>venture</td>\n",
              "      <td>09-10-2014</td>\n",
              "      <td>4000000.0</td>\n",
              "      <td>10 Minutes With</td>\n",
              "      <td>Education</td>\n",
              "      <td>operating</td>\n",
              "      <td>GBR</td>\n",
              "      <td>H9</td>\n",
              "      <td>London</td>\n",
              "      <td>London</td>\n",
              "      <td>Education</td>\n",
              "    </tr>\n",
              "    <tr>\n",
              "      <th>34</th>\n",
              "      <td>/organization/1000memories</td>\n",
              "      <td>/funding-round/502bd0e50c27616995e4bdad24605ef8</td>\n",
              "      <td>venture</td>\n",
              "      <td>16-02-2011</td>\n",
              "      <td>2520000.0</td>\n",
              "      <td>1000memories</td>\n",
              "      <td>Curated Web</td>\n",
              "      <td>acquired</td>\n",
              "      <td>USA</td>\n",
              "      <td>CA</td>\n",
              "      <td>SF Bay Area</td>\n",
              "      <td>San Francisco</td>\n",
              "      <td>Curated Web</td>\n",
              "    </tr>\n",
              "    <tr>\n",
              "      <th>38</th>\n",
              "      <td>/organization/1000museums-com</td>\n",
              "      <td>/funding-round/13be128d655076a025221d7fddc90d68</td>\n",
              "      <td>venture</td>\n",
              "      <td>14-10-2009</td>\n",
              "      <td>265940.0</td>\n",
              "      <td>1000museums.com</td>\n",
              "      <td>Curated Web</td>\n",
              "      <td>operating</td>\n",
              "      <td>USA</td>\n",
              "      <td>MA</td>\n",
              "      <td>MA - Other</td>\n",
              "      <td>Lenox</td>\n",
              "      <td>Curated Web</td>\n",
              "    </tr>\n",
              "  </tbody>\n",
              "</table>\n",
              "</div>"
            ],
            "text/plain": [
              "                      company_permalink  ... primary_sector\n",
              "0                   /organization/-fame  ...          Media\n",
              "4                 /organization/0-6-com  ...    Curated Web\n",
              "8   /organization/0ndine-biomedical-inc  ...  Biotechnology\n",
              "10                 /organization/0xdata  ...      Analytics\n",
              "11                 /organization/0xdata  ...      Analytics\n",
              "12                 /organization/0xdata  ...      Analytics\n",
              "22           /organization/1-mainstream  ...           Apps\n",
              "28        /organization/10-minutes-with  ...      Education\n",
              "34           /organization/1000memories  ...    Curated Web\n",
              "38        /organization/1000museums-com  ...    Curated Web\n",
              "\n",
              "[10 rows x 13 columns]"
            ]
          },
          "metadata": {
            "tags": []
          },
          "execution_count": 446
        }
      ]
    },
    {
      "cell_type": "markdown",
      "metadata": {
        "id": "0xSUgyt9l8Cp"
      },
      "source": [
        "## Checkpoint 4: Sector Analysis 1"
      ]
    },
    {
      "cell_type": "code",
      "metadata": {
        "colab": {
          "base_uri": "https://localhost:8080/",
          "height": 780
        },
        "id": "yU1VtnGFoIuE",
        "outputId": "29f933f5-983c-441e-a999-b64b8ddc3a57"
      },
      "source": [
        "## For further analysis and mapping, removing the null rows from the mapping dataframe.\r\n",
        "mapping=mapping[~mapping.category_list.isnull()]\r\n",
        "mapping.head(25)"
      ],
      "execution_count": 447,
      "outputs": [
        {
          "output_type": "execute_result",
          "data": {
            "text/html": [
              "<div>\n",
              "<style scoped>\n",
              "    .dataframe tbody tr th:only-of-type {\n",
              "        vertical-align: middle;\n",
              "    }\n",
              "\n",
              "    .dataframe tbody tr th {\n",
              "        vertical-align: top;\n",
              "    }\n",
              "\n",
              "    .dataframe thead th {\n",
              "        text-align: right;\n",
              "    }\n",
              "</style>\n",
              "<table border=\"1\" class=\"dataframe\">\n",
              "  <thead>\n",
              "    <tr style=\"text-align: right;\">\n",
              "      <th></th>\n",
              "      <th>category_list</th>\n",
              "      <th>Automotive &amp; Sports</th>\n",
              "      <th>Blanks</th>\n",
              "      <th>Cleantech / Semiconductors</th>\n",
              "      <th>Entertainment</th>\n",
              "      <th>Health</th>\n",
              "      <th>Manufacturing</th>\n",
              "      <th>News, Search and Messaging</th>\n",
              "      <th>Others</th>\n",
              "      <th>Social, Finance, Analytics, Advertising</th>\n",
              "    </tr>\n",
              "  </thead>\n",
              "  <tbody>\n",
              "    <tr>\n",
              "      <th>1</th>\n",
              "      <td>3D</td>\n",
              "      <td>0</td>\n",
              "      <td>0</td>\n",
              "      <td>0</td>\n",
              "      <td>0</td>\n",
              "      <td>0</td>\n",
              "      <td>1</td>\n",
              "      <td>0</td>\n",
              "      <td>0</td>\n",
              "      <td>0</td>\n",
              "    </tr>\n",
              "    <tr>\n",
              "      <th>2</th>\n",
              "      <td>3D Printing</td>\n",
              "      <td>0</td>\n",
              "      <td>0</td>\n",
              "      <td>0</td>\n",
              "      <td>0</td>\n",
              "      <td>0</td>\n",
              "      <td>1</td>\n",
              "      <td>0</td>\n",
              "      <td>0</td>\n",
              "      <td>0</td>\n",
              "    </tr>\n",
              "    <tr>\n",
              "      <th>3</th>\n",
              "      <td>3D Technology</td>\n",
              "      <td>0</td>\n",
              "      <td>0</td>\n",
              "      <td>0</td>\n",
              "      <td>0</td>\n",
              "      <td>0</td>\n",
              "      <td>1</td>\n",
              "      <td>0</td>\n",
              "      <td>0</td>\n",
              "      <td>0</td>\n",
              "    </tr>\n",
              "    <tr>\n",
              "      <th>4</th>\n",
              "      <td>Accounting</td>\n",
              "      <td>0</td>\n",
              "      <td>0</td>\n",
              "      <td>0</td>\n",
              "      <td>0</td>\n",
              "      <td>0</td>\n",
              "      <td>0</td>\n",
              "      <td>0</td>\n",
              "      <td>0</td>\n",
              "      <td>1</td>\n",
              "    </tr>\n",
              "    <tr>\n",
              "      <th>5</th>\n",
              "      <td>Active Lifestyle</td>\n",
              "      <td>0</td>\n",
              "      <td>0</td>\n",
              "      <td>0</td>\n",
              "      <td>0</td>\n",
              "      <td>1</td>\n",
              "      <td>0</td>\n",
              "      <td>0</td>\n",
              "      <td>0</td>\n",
              "      <td>0</td>\n",
              "    </tr>\n",
              "    <tr>\n",
              "      <th>6</th>\n",
              "      <td>Ad Targeting</td>\n",
              "      <td>0</td>\n",
              "      <td>0</td>\n",
              "      <td>0</td>\n",
              "      <td>0</td>\n",
              "      <td>0</td>\n",
              "      <td>0</td>\n",
              "      <td>0</td>\n",
              "      <td>0</td>\n",
              "      <td>1</td>\n",
              "    </tr>\n",
              "    <tr>\n",
              "      <th>7</th>\n",
              "      <td>Advanced Materials</td>\n",
              "      <td>0</td>\n",
              "      <td>0</td>\n",
              "      <td>0</td>\n",
              "      <td>0</td>\n",
              "      <td>0</td>\n",
              "      <td>1</td>\n",
              "      <td>0</td>\n",
              "      <td>0</td>\n",
              "      <td>0</td>\n",
              "    </tr>\n",
              "    <tr>\n",
              "      <th>8</th>\n",
              "      <td>Adventure Travel</td>\n",
              "      <td>1</td>\n",
              "      <td>0</td>\n",
              "      <td>0</td>\n",
              "      <td>0</td>\n",
              "      <td>0</td>\n",
              "      <td>0</td>\n",
              "      <td>0</td>\n",
              "      <td>0</td>\n",
              "      <td>0</td>\n",
              "    </tr>\n",
              "    <tr>\n",
              "      <th>9</th>\n",
              "      <td>Advertising</td>\n",
              "      <td>0</td>\n",
              "      <td>0</td>\n",
              "      <td>0</td>\n",
              "      <td>0</td>\n",
              "      <td>0</td>\n",
              "      <td>0</td>\n",
              "      <td>0</td>\n",
              "      <td>0</td>\n",
              "      <td>1</td>\n",
              "    </tr>\n",
              "    <tr>\n",
              "      <th>10</th>\n",
              "      <td>Advertising Exchanges</td>\n",
              "      <td>0</td>\n",
              "      <td>0</td>\n",
              "      <td>0</td>\n",
              "      <td>0</td>\n",
              "      <td>0</td>\n",
              "      <td>0</td>\n",
              "      <td>0</td>\n",
              "      <td>0</td>\n",
              "      <td>1</td>\n",
              "    </tr>\n",
              "    <tr>\n",
              "      <th>11</th>\n",
              "      <td>Advertising Networks</td>\n",
              "      <td>0</td>\n",
              "      <td>0</td>\n",
              "      <td>0</td>\n",
              "      <td>0</td>\n",
              "      <td>0</td>\n",
              "      <td>0</td>\n",
              "      <td>0</td>\n",
              "      <td>0</td>\n",
              "      <td>1</td>\n",
              "    </tr>\n",
              "    <tr>\n",
              "      <th>12</th>\n",
              "      <td>Advertising Platforms</td>\n",
              "      <td>0</td>\n",
              "      <td>0</td>\n",
              "      <td>0</td>\n",
              "      <td>0</td>\n",
              "      <td>0</td>\n",
              "      <td>0</td>\n",
              "      <td>0</td>\n",
              "      <td>0</td>\n",
              "      <td>1</td>\n",
              "    </tr>\n",
              "    <tr>\n",
              "      <th>13</th>\n",
              "      <td>Advice</td>\n",
              "      <td>0</td>\n",
              "      <td>0</td>\n",
              "      <td>0</td>\n",
              "      <td>0</td>\n",
              "      <td>0</td>\n",
              "      <td>0</td>\n",
              "      <td>0</td>\n",
              "      <td>1</td>\n",
              "      <td>0</td>\n",
              "    </tr>\n",
              "    <tr>\n",
              "      <th>14</th>\n",
              "      <td>Aerospace</td>\n",
              "      <td>1</td>\n",
              "      <td>0</td>\n",
              "      <td>0</td>\n",
              "      <td>0</td>\n",
              "      <td>0</td>\n",
              "      <td>0</td>\n",
              "      <td>0</td>\n",
              "      <td>0</td>\n",
              "      <td>0</td>\n",
              "    </tr>\n",
              "    <tr>\n",
              "      <th>15</th>\n",
              "      <td>Agriculture</td>\n",
              "      <td>0</td>\n",
              "      <td>0</td>\n",
              "      <td>0</td>\n",
              "      <td>0</td>\n",
              "      <td>0</td>\n",
              "      <td>1</td>\n",
              "      <td>0</td>\n",
              "      <td>0</td>\n",
              "      <td>0</td>\n",
              "    </tr>\n",
              "    <tr>\n",
              "      <th>16</th>\n",
              "      <td>Air Pollution Control</td>\n",
              "      <td>0</td>\n",
              "      <td>0</td>\n",
              "      <td>1</td>\n",
              "      <td>0</td>\n",
              "      <td>0</td>\n",
              "      <td>0</td>\n",
              "      <td>0</td>\n",
              "      <td>0</td>\n",
              "      <td>0</td>\n",
              "    </tr>\n",
              "    <tr>\n",
              "      <th>17</th>\n",
              "      <td>Algorithms</td>\n",
              "      <td>0</td>\n",
              "      <td>0</td>\n",
              "      <td>0</td>\n",
              "      <td>0</td>\n",
              "      <td>0</td>\n",
              "      <td>0</td>\n",
              "      <td>0</td>\n",
              "      <td>1</td>\n",
              "      <td>0</td>\n",
              "    </tr>\n",
              "    <tr>\n",
              "      <th>18</th>\n",
              "      <td>All Markets</td>\n",
              "      <td>0</td>\n",
              "      <td>0</td>\n",
              "      <td>0</td>\n",
              "      <td>0</td>\n",
              "      <td>0</td>\n",
              "      <td>0</td>\n",
              "      <td>0</td>\n",
              "      <td>1</td>\n",
              "      <td>0</td>\n",
              "    </tr>\n",
              "    <tr>\n",
              "      <th>19</th>\n",
              "      <td>All Students</td>\n",
              "      <td>0</td>\n",
              "      <td>0</td>\n",
              "      <td>0</td>\n",
              "      <td>0</td>\n",
              "      <td>0</td>\n",
              "      <td>0</td>\n",
              "      <td>0</td>\n",
              "      <td>1</td>\n",
              "      <td>0</td>\n",
              "    </tr>\n",
              "    <tr>\n",
              "      <th>20</th>\n",
              "      <td>Alter0tive Medicine</td>\n",
              "      <td>0</td>\n",
              "      <td>0</td>\n",
              "      <td>0</td>\n",
              "      <td>0</td>\n",
              "      <td>1</td>\n",
              "      <td>0</td>\n",
              "      <td>0</td>\n",
              "      <td>0</td>\n",
              "      <td>0</td>\n",
              "    </tr>\n",
              "    <tr>\n",
              "      <th>21</th>\n",
              "      <td>Alumni</td>\n",
              "      <td>0</td>\n",
              "      <td>0</td>\n",
              "      <td>0</td>\n",
              "      <td>0</td>\n",
              "      <td>0</td>\n",
              "      <td>0</td>\n",
              "      <td>0</td>\n",
              "      <td>1</td>\n",
              "      <td>0</td>\n",
              "    </tr>\n",
              "    <tr>\n",
              "      <th>22</th>\n",
              "      <td>A0lytics</td>\n",
              "      <td>0</td>\n",
              "      <td>0</td>\n",
              "      <td>0</td>\n",
              "      <td>0</td>\n",
              "      <td>0</td>\n",
              "      <td>0</td>\n",
              "      <td>0</td>\n",
              "      <td>0</td>\n",
              "      <td>1</td>\n",
              "    </tr>\n",
              "    <tr>\n",
              "      <th>23</th>\n",
              "      <td>Android</td>\n",
              "      <td>0</td>\n",
              "      <td>0</td>\n",
              "      <td>0</td>\n",
              "      <td>0</td>\n",
              "      <td>0</td>\n",
              "      <td>0</td>\n",
              "      <td>0</td>\n",
              "      <td>0</td>\n",
              "      <td>1</td>\n",
              "    </tr>\n",
              "    <tr>\n",
              "      <th>24</th>\n",
              "      <td>Angels</td>\n",
              "      <td>0</td>\n",
              "      <td>0</td>\n",
              "      <td>0</td>\n",
              "      <td>0</td>\n",
              "      <td>0</td>\n",
              "      <td>0</td>\n",
              "      <td>0</td>\n",
              "      <td>1</td>\n",
              "      <td>0</td>\n",
              "    </tr>\n",
              "    <tr>\n",
              "      <th>25</th>\n",
              "      <td>Animal Feed</td>\n",
              "      <td>0</td>\n",
              "      <td>0</td>\n",
              "      <td>0</td>\n",
              "      <td>0</td>\n",
              "      <td>1</td>\n",
              "      <td>0</td>\n",
              "      <td>0</td>\n",
              "      <td>0</td>\n",
              "      <td>0</td>\n",
              "    </tr>\n",
              "  </tbody>\n",
              "</table>\n",
              "</div>"
            ],
            "text/plain": [
              "            category_list  ...  Social, Finance, Analytics, Advertising\n",
              "1                      3D  ...                                        0\n",
              "2             3D Printing  ...                                        0\n",
              "3           3D Technology  ...                                        0\n",
              "4              Accounting  ...                                        1\n",
              "5        Active Lifestyle  ...                                        0\n",
              "6            Ad Targeting  ...                                        1\n",
              "7      Advanced Materials  ...                                        0\n",
              "8        Adventure Travel  ...                                        0\n",
              "9             Advertising  ...                                        1\n",
              "10  Advertising Exchanges  ...                                        1\n",
              "11   Advertising Networks  ...                                        1\n",
              "12  Advertising Platforms  ...                                        1\n",
              "13                 Advice  ...                                        0\n",
              "14              Aerospace  ...                                        0\n",
              "15            Agriculture  ...                                        0\n",
              "16  Air Pollution Control  ...                                        0\n",
              "17             Algorithms  ...                                        0\n",
              "18            All Markets  ...                                        0\n",
              "19           All Students  ...                                        0\n",
              "20    Alter0tive Medicine  ...                                        0\n",
              "21                 Alumni  ...                                        0\n",
              "22               A0lytics  ...                                        1\n",
              "23                Android  ...                                        1\n",
              "24                 Angels  ...                                        0\n",
              "25            Animal Feed  ...                                        0\n",
              "\n",
              "[25 rows x 10 columns]"
            ]
          },
          "metadata": {
            "tags": []
          },
          "execution_count": 447
        }
      ]
    },
    {
      "cell_type": "code",
      "metadata": {
        "id": "I78Y2ZI40hP6"
      },
      "source": [
        "## It can be observed from the data that at many places in the category_list column the 'na' is misprinded as '0'\r\n",
        "## Eg. 'Analytics' is present as 'A0lytics'"
      ],
      "execution_count": 448,
      "outputs": []
    },
    {
      "cell_type": "code",
      "metadata": {
        "id": "eLHWK3fvuu03"
      },
      "source": [
        "# correcting improperly decoded words from mapping.csv\r\n",
        "mapping.reset_index(inplace=True)\r\n",
        "mapping['category_list'] = mapping['category_list'].str.replace('0', 'na')"
      ],
      "execution_count": 449,
      "outputs": []
    },
    {
      "cell_type": "code",
      "metadata": {
        "id": "5kr6mK0nzBIo"
      },
      "source": [
        "## Mapping the category_list in the top10 dataframe to the main_sector in the mapping file.\r\n",
        "## Before merging these two dataframe, creating a new column main_sector in mapping dataframe to get the main sector name of each category."
      ],
      "execution_count": 450,
      "outputs": []
    },
    {
      "cell_type": "code",
      "metadata": {
        "id": "Og5WBApp_04d",
        "colab": {
          "base_uri": "https://localhost:8080/"
        },
        "outputId": "6603a4e0-4ede-4729-92bd-39cd50bc07ea"
      },
      "source": [
        "map=pd.melt(mapping, id_vars=['category_list'], var_name=['main_sector'])\r\n",
        "map=map[map.value==1]\r\n",
        "map=map.drop('value',axis=1)\r\n",
        "map.shape"
      ],
      "execution_count": 451,
      "outputs": [
        {
          "output_type": "execute_result",
          "data": {
            "text/plain": [
              "(688, 2)"
            ]
          },
          "metadata": {
            "tags": []
          },
          "execution_count": 451
        }
      ]
    },
    {
      "cell_type": "code",
      "metadata": {
        "colab": {
          "base_uri": "https://localhost:8080/",
          "height": 194
        },
        "id": "D2U5G-bDzXrE",
        "outputId": "297abcb6-d9f9-4e19-b73b-d0eec3bbf5e7"
      },
      "source": [
        "map.head()"
      ],
      "execution_count": 452,
      "outputs": [
        {
          "output_type": "execute_result",
          "data": {
            "text/html": [
              "<div>\n",
              "<style scoped>\n",
              "    .dataframe tbody tr th:only-of-type {\n",
              "        vertical-align: middle;\n",
              "    }\n",
              "\n",
              "    .dataframe tbody tr th {\n",
              "        vertical-align: top;\n",
              "    }\n",
              "\n",
              "    .dataframe thead th {\n",
              "        text-align: right;\n",
              "    }\n",
              "</style>\n",
              "<table border=\"1\" class=\"dataframe\">\n",
              "  <thead>\n",
              "    <tr style=\"text-align: right;\">\n",
              "      <th></th>\n",
              "      <th>category_list</th>\n",
              "      <th>main_sector</th>\n",
              "    </tr>\n",
              "  </thead>\n",
              "  <tbody>\n",
              "    <tr>\n",
              "      <th>0</th>\n",
              "      <td>3D</td>\n",
              "      <td>index</td>\n",
              "    </tr>\n",
              "    <tr>\n",
              "      <th>694</th>\n",
              "      <td>Adventure Travel</td>\n",
              "      <td>Automotive &amp; Sports</td>\n",
              "    </tr>\n",
              "    <tr>\n",
              "      <th>700</th>\n",
              "      <td>Aerospace</td>\n",
              "      <td>Automotive &amp; Sports</td>\n",
              "    </tr>\n",
              "    <tr>\n",
              "      <th>731</th>\n",
              "      <td>Auto</td>\n",
              "      <td>Automotive &amp; Sports</td>\n",
              "    </tr>\n",
              "    <tr>\n",
              "      <th>732</th>\n",
              "      <td>Automated Kiosk</td>\n",
              "      <td>Automotive &amp; Sports</td>\n",
              "    </tr>\n",
              "  </tbody>\n",
              "</table>\n",
              "</div>"
            ],
            "text/plain": [
              "        category_list          main_sector\n",
              "0                  3D                index\n",
              "694  Adventure Travel  Automotive & Sports\n",
              "700         Aerospace  Automotive & Sports\n",
              "731              Auto  Automotive & Sports\n",
              "732   Automated Kiosk  Automotive & Sports"
            ]
          },
          "metadata": {
            "tags": []
          },
          "execution_count": 452
        }
      ]
    },
    {
      "cell_type": "code",
      "metadata": {
        "id": "vUKnULxaLdc1"
      },
      "source": [
        "## Merging these two dataframe\r\n",
        "top10=pd.merge(top10,map,how=\"left\",left_on=\"primary_sector\",right_on=\"category_list\")"
      ],
      "execution_count": 453,
      "outputs": []
    },
    {
      "cell_type": "code",
      "metadata": {
        "colab": {
          "base_uri": "https://localhost:8080/",
          "height": 349
        },
        "id": "3tI-X1GUQT2e",
        "outputId": "8d842335-1702-42ff-e1c4-cba00f7d699b"
      },
      "source": [
        "top10.head()"
      ],
      "execution_count": 454,
      "outputs": [
        {
          "output_type": "execute_result",
          "data": {
            "text/html": [
              "<div>\n",
              "<style scoped>\n",
              "    .dataframe tbody tr th:only-of-type {\n",
              "        vertical-align: middle;\n",
              "    }\n",
              "\n",
              "    .dataframe tbody tr th {\n",
              "        vertical-align: top;\n",
              "    }\n",
              "\n",
              "    .dataframe thead th {\n",
              "        text-align: right;\n",
              "    }\n",
              "</style>\n",
              "<table border=\"1\" class=\"dataframe\">\n",
              "  <thead>\n",
              "    <tr style=\"text-align: right;\">\n",
              "      <th></th>\n",
              "      <th>company_permalink</th>\n",
              "      <th>funding_round_permalink</th>\n",
              "      <th>funding_round_type</th>\n",
              "      <th>funded_at</th>\n",
              "      <th>raised_amount_usd</th>\n",
              "      <th>name</th>\n",
              "      <th>category_list_x</th>\n",
              "      <th>status</th>\n",
              "      <th>country_code</th>\n",
              "      <th>state_code</th>\n",
              "      <th>region</th>\n",
              "      <th>city</th>\n",
              "      <th>primary_sector</th>\n",
              "      <th>category_list_y</th>\n",
              "      <th>main_sector</th>\n",
              "    </tr>\n",
              "  </thead>\n",
              "  <tbody>\n",
              "    <tr>\n",
              "      <th>0</th>\n",
              "      <td>/organization/-fame</td>\n",
              "      <td>/funding-round/9a01d05418af9f794eebff7ace91f638</td>\n",
              "      <td>venture</td>\n",
              "      <td>05-01-2015</td>\n",
              "      <td>10000000.0</td>\n",
              "      <td>#fame</td>\n",
              "      <td>Media</td>\n",
              "      <td>operating</td>\n",
              "      <td>IND</td>\n",
              "      <td>16</td>\n",
              "      <td>Mumbai</td>\n",
              "      <td>Mumbai</td>\n",
              "      <td>Media</td>\n",
              "      <td>Media</td>\n",
              "      <td>Entertainment</td>\n",
              "    </tr>\n",
              "    <tr>\n",
              "      <th>1</th>\n",
              "      <td>/organization/0-6-com</td>\n",
              "      <td>/funding-round/5727accaeaa57461bd22a9bdd945382d</td>\n",
              "      <td>venture</td>\n",
              "      <td>19-03-2008</td>\n",
              "      <td>2000000.0</td>\n",
              "      <td>0-6.com</td>\n",
              "      <td>Curated Web</td>\n",
              "      <td>operating</td>\n",
              "      <td>CHN</td>\n",
              "      <td>22</td>\n",
              "      <td>Beijing</td>\n",
              "      <td>Beijing</td>\n",
              "      <td>Curated Web</td>\n",
              "      <td>Curated Web</td>\n",
              "      <td>News, Search and Messaging</td>\n",
              "    </tr>\n",
              "    <tr>\n",
              "      <th>2</th>\n",
              "      <td>/organization/0ndine-biomedical-inc</td>\n",
              "      <td>/funding-round/954b9499724b946ad8c396a57a5f3b72</td>\n",
              "      <td>venture</td>\n",
              "      <td>21-12-2009</td>\n",
              "      <td>719491.0</td>\n",
              "      <td>Ondine Biomedical Inc.</td>\n",
              "      <td>Biotechnology</td>\n",
              "      <td>operating</td>\n",
              "      <td>CAN</td>\n",
              "      <td>BC</td>\n",
              "      <td>Vancouver</td>\n",
              "      <td>Vancouver</td>\n",
              "      <td>Biotechnology</td>\n",
              "      <td>Biotechnology</td>\n",
              "      <td>Cleantech / Semiconductors</td>\n",
              "    </tr>\n",
              "    <tr>\n",
              "      <th>3</th>\n",
              "      <td>/organization/0xdata</td>\n",
              "      <td>/funding-round/3bb2ee4a2d89251a10aaa735b1180e44</td>\n",
              "      <td>venture</td>\n",
              "      <td>09-11-2015</td>\n",
              "      <td>20000000.0</td>\n",
              "      <td>H2O.ai</td>\n",
              "      <td>Analytics</td>\n",
              "      <td>operating</td>\n",
              "      <td>USA</td>\n",
              "      <td>CA</td>\n",
              "      <td>SF Bay Area</td>\n",
              "      <td>Mountain View</td>\n",
              "      <td>Analytics</td>\n",
              "      <td>Analytics</td>\n",
              "      <td>Social, Finance, Analytics, Advertising</td>\n",
              "    </tr>\n",
              "    <tr>\n",
              "      <th>4</th>\n",
              "      <td>/organization/0xdata</td>\n",
              "      <td>/funding-round/ae2a174c06517c2394aed45006322a7e</td>\n",
              "      <td>venture</td>\n",
              "      <td>03-01-2013</td>\n",
              "      <td>1700000.0</td>\n",
              "      <td>H2O.ai</td>\n",
              "      <td>Analytics</td>\n",
              "      <td>operating</td>\n",
              "      <td>USA</td>\n",
              "      <td>CA</td>\n",
              "      <td>SF Bay Area</td>\n",
              "      <td>Mountain View</td>\n",
              "      <td>Analytics</td>\n",
              "      <td>Analytics</td>\n",
              "      <td>Social, Finance, Analytics, Advertising</td>\n",
              "    </tr>\n",
              "  </tbody>\n",
              "</table>\n",
              "</div>"
            ],
            "text/plain": [
              "                     company_permalink  ...                              main_sector\n",
              "0                  /organization/-fame  ...                            Entertainment\n",
              "1                /organization/0-6-com  ...               News, Search and Messaging\n",
              "2  /organization/0ndine-biomedical-inc  ...               Cleantech / Semiconductors\n",
              "3                 /organization/0xdata  ...  Social, Finance, Analytics, Advertising\n",
              "4                 /organization/0xdata  ...  Social, Finance, Analytics, Advertising\n",
              "\n",
              "[5 rows x 15 columns]"
            ]
          },
          "metadata": {
            "tags": []
          },
          "execution_count": 454
        }
      ]
    },
    {
      "cell_type": "code",
      "metadata": {
        "colab": {
          "base_uri": "https://localhost:8080/"
        },
        "id": "LO8zafoe1u2N",
        "outputId": "5fd956ac-00fb-4fc5-9f5b-4f3161afc5bc"
      },
      "source": [
        "top10.shape"
      ],
      "execution_count": 455,
      "outputs": [
        {
          "output_type": "execute_result",
          "data": {
            "text/plain": [
              "(43995, 15)"
            ]
          },
          "metadata": {
            "tags": []
          },
          "execution_count": 455
        }
      ]
    },
    {
      "cell_type": "code",
      "metadata": {
        "colab": {
          "base_uri": "https://localhost:8080/"
        },
        "id": "PFL16YtW1PRe",
        "outputId": "7a4bd4ff-f9fd-4425-c536-354018228e55"
      },
      "source": [
        "top10['main_sector'].head()"
      ],
      "execution_count": 456,
      "outputs": [
        {
          "output_type": "execute_result",
          "data": {
            "text/plain": [
              "0                              Entertainment\n",
              "1                 News, Search and Messaging\n",
              "2                 Cleantech / Semiconductors\n",
              "3    Social, Finance, Analytics, Advertising\n",
              "4    Social, Finance, Analytics, Advertising\n",
              "Name: main_sector, dtype: object"
            ]
          },
          "metadata": {
            "tags": []
          },
          "execution_count": 456
        }
      ]
    },
    {
      "cell_type": "code",
      "metadata": {
        "colab": {
          "base_uri": "https://localhost:8080/"
        },
        "id": "HHw9osKl1W4X",
        "outputId": "1ba5adc0-7eb5-43ca-ddb1-167a0b451e99"
      },
      "source": [
        "## Checking for null in the main_sector column of the merged data frame.\r\n",
        "len(top10[top10['main_sector'].isnull()])"
      ],
      "execution_count": 457,
      "outputs": [
        {
          "output_type": "execute_result",
          "data": {
            "text/plain": [
              "180"
            ]
          },
          "metadata": {
            "tags": []
          },
          "execution_count": 457
        }
      ]
    },
    {
      "cell_type": "code",
      "metadata": {
        "id": "edEmWTEO10jw"
      },
      "source": [
        "## There are 180 rows with missing main_sector values. Hence, removing such rows.\r\n",
        "top10=top10[~(top10['main_sector'].isnull())]"
      ],
      "execution_count": 458,
      "outputs": []
    },
    {
      "cell_type": "code",
      "metadata": {
        "colab": {
          "base_uri": "https://localhost:8080/"
        },
        "id": "cfZcRpX52FF_",
        "outputId": "d8df7033-ed04-41db-fafd-2c0901a397ac"
      },
      "source": [
        "len(top10[top10['main_sector'].isnull()])"
      ],
      "execution_count": 459,
      "outputs": [
        {
          "output_type": "execute_result",
          "data": {
            "text/plain": [
              "0"
            ]
          },
          "metadata": {
            "tags": []
          },
          "execution_count": 459
        }
      ]
    },
    {
      "cell_type": "code",
      "metadata": {
        "id": "56QkOA1j2OCu"
      },
      "source": [
        "## Creating three separate data frames D1, D2 and D3 for each of the top three countries (USA, GBR, IND) \r\n",
        "## containing the observations of funding type venture falling within the 5-15 million USD range."
      ],
      "execution_count": 460,
      "outputs": []
    },
    {
      "cell_type": "code",
      "metadata": {
        "colab": {
          "base_uri": "https://localhost:8080/"
        },
        "id": "qoDoSlVH2S7y",
        "outputId": "50632e87-164f-47d3-c54b-1fc0661eb405"
      },
      "source": [
        "## Sector Analysis - USA\r\n",
        "D1=top10[top10['country_code']=='USA']\r\n",
        "D1 = D1[(D1['raised_amount_usd'] >= 5000000) & (D1['raised_amount_usd'] <= 15000000)]\r\n",
        "print(\"Total amount raised in USA is\", + D1.raised_amount_usd.sum())"
      ],
      "execution_count": 461,
      "outputs": [
        {
          "output_type": "stream",
          "text": [
            "Total amount raised in USA is 107393032962.0\n"
          ],
          "name": "stdout"
        }
      ]
    },
    {
      "cell_type": "code",
      "metadata": {
        "colab": {
          "base_uri": "https://localhost:8080/",
          "height": 349
        },
        "id": "rEKDf7rZBy5m",
        "outputId": "826a5572-1268-4c0f-a178-a2bc3b6d255a"
      },
      "source": [
        "D1.head()"
      ],
      "execution_count": 462,
      "outputs": [
        {
          "output_type": "execute_result",
          "data": {
            "text/html": [
              "<div>\n",
              "<style scoped>\n",
              "    .dataframe tbody tr th:only-of-type {\n",
              "        vertical-align: middle;\n",
              "    }\n",
              "\n",
              "    .dataframe tbody tr th {\n",
              "        vertical-align: top;\n",
              "    }\n",
              "\n",
              "    .dataframe thead th {\n",
              "        text-align: right;\n",
              "    }\n",
              "</style>\n",
              "<table border=\"1\" class=\"dataframe\">\n",
              "  <thead>\n",
              "    <tr style=\"text-align: right;\">\n",
              "      <th></th>\n",
              "      <th>company_permalink</th>\n",
              "      <th>funding_round_permalink</th>\n",
              "      <th>funding_round_type</th>\n",
              "      <th>funded_at</th>\n",
              "      <th>raised_amount_usd</th>\n",
              "      <th>name</th>\n",
              "      <th>category_list_x</th>\n",
              "      <th>status</th>\n",
              "      <th>country_code</th>\n",
              "      <th>state_code</th>\n",
              "      <th>region</th>\n",
              "      <th>city</th>\n",
              "      <th>primary_sector</th>\n",
              "      <th>category_list_y</th>\n",
              "      <th>main_sector</th>\n",
              "    </tr>\n",
              "  </thead>\n",
              "  <tbody>\n",
              "    <tr>\n",
              "      <th>5</th>\n",
              "      <td>/organization/0xdata</td>\n",
              "      <td>/funding-round/e1cfcbe1bdf4c70277c5f29a3482f24e</td>\n",
              "      <td>venture</td>\n",
              "      <td>19-07-2014</td>\n",
              "      <td>8900000.0</td>\n",
              "      <td>H2O.ai</td>\n",
              "      <td>Analytics</td>\n",
              "      <td>operating</td>\n",
              "      <td>USA</td>\n",
              "      <td>CA</td>\n",
              "      <td>SF Bay Area</td>\n",
              "      <td>Mountain View</td>\n",
              "      <td>Analytics</td>\n",
              "      <td>Analytics</td>\n",
              "      <td>Social, Finance, Analytics, Advertising</td>\n",
              "    </tr>\n",
              "    <tr>\n",
              "      <th>6</th>\n",
              "      <td>/organization/1-mainstream</td>\n",
              "      <td>/funding-round/b952cbaf401f310927430c97b68162ea</td>\n",
              "      <td>venture</td>\n",
              "      <td>17-03-2015</td>\n",
              "      <td>5000000.0</td>\n",
              "      <td>1 Mainstream</td>\n",
              "      <td>Apps|Cable|Distribution|Software</td>\n",
              "      <td>acquired</td>\n",
              "      <td>USA</td>\n",
              "      <td>CA</td>\n",
              "      <td>SF Bay Area</td>\n",
              "      <td>Cupertino</td>\n",
              "      <td>Apps</td>\n",
              "      <td>Apps</td>\n",
              "      <td>News, Search and Messaging</td>\n",
              "    </tr>\n",
              "    <tr>\n",
              "      <th>28</th>\n",
              "      <td>/organization/128-technology</td>\n",
              "      <td>/funding-round/fb6216a30cb566ede89e0bee0623a634</td>\n",
              "      <td>venture</td>\n",
              "      <td>16-12-2014</td>\n",
              "      <td>11999347.0</td>\n",
              "      <td>128 Technology</td>\n",
              "      <td>Service Providers|Technology</td>\n",
              "      <td>operating</td>\n",
              "      <td>USA</td>\n",
              "      <td>MA</td>\n",
              "      <td>Boston</td>\n",
              "      <td>Burlington</td>\n",
              "      <td>Service Providers</td>\n",
              "      <td>Service Providers</td>\n",
              "      <td>Others</td>\n",
              "    </tr>\n",
              "    <tr>\n",
              "      <th>31</th>\n",
              "      <td>/organization/1366-technologies</td>\n",
              "      <td>/funding-round/424129ce1235cfab2655ee81305f7c2b</td>\n",
              "      <td>venture</td>\n",
              "      <td>15-10-2013</td>\n",
              "      <td>15000000.0</td>\n",
              "      <td>1366 Technologies</td>\n",
              "      <td>Manufacturing</td>\n",
              "      <td>operating</td>\n",
              "      <td>USA</td>\n",
              "      <td>MA</td>\n",
              "      <td>Boston</td>\n",
              "      <td>Bedford</td>\n",
              "      <td>Manufacturing</td>\n",
              "      <td>Manufacturing</td>\n",
              "      <td>Manufacturing</td>\n",
              "    </tr>\n",
              "    <tr>\n",
              "      <th>32</th>\n",
              "      <td>/organization/1366-technologies</td>\n",
              "      <td>/funding-round/6d3f3797371956ece035b8478c1441b2</td>\n",
              "      <td>venture</td>\n",
              "      <td>09-04-2015</td>\n",
              "      <td>5000000.0</td>\n",
              "      <td>1366 Technologies</td>\n",
              "      <td>Manufacturing</td>\n",
              "      <td>operating</td>\n",
              "      <td>USA</td>\n",
              "      <td>MA</td>\n",
              "      <td>Boston</td>\n",
              "      <td>Bedford</td>\n",
              "      <td>Manufacturing</td>\n",
              "      <td>Manufacturing</td>\n",
              "      <td>Manufacturing</td>\n",
              "    </tr>\n",
              "  </tbody>\n",
              "</table>\n",
              "</div>"
            ],
            "text/plain": [
              "                  company_permalink  ...                              main_sector\n",
              "5              /organization/0xdata  ...  Social, Finance, Analytics, Advertising\n",
              "6        /organization/1-mainstream  ...               News, Search and Messaging\n",
              "28     /organization/128-technology  ...                                   Others\n",
              "31  /organization/1366-technologies  ...                            Manufacturing\n",
              "32  /organization/1366-technologies  ...                            Manufacturing\n",
              "\n",
              "[5 rows x 15 columns]"
            ]
          },
          "metadata": {
            "tags": []
          },
          "execution_count": 462
        }
      ]
    },
    {
      "cell_type": "code",
      "metadata": {
        "colab": {
          "base_uri": "https://localhost:8080/"
        },
        "id": "tUbEpvtb2352",
        "outputId": "4612e286-02c1-4013-d2b8-6ad585dba64f"
      },
      "source": [
        "D1.raised_amount_usd.count()"
      ],
      "execution_count": 463,
      "outputs": [
        {
          "output_type": "execute_result",
          "data": {
            "text/plain": [
              "12022"
            ]
          },
          "metadata": {
            "tags": []
          },
          "execution_count": 463
        }
      ]
    },
    {
      "cell_type": "code",
      "metadata": {
        "colab": {
          "base_uri": "https://localhost:8080/"
        },
        "id": "DOij4uQ_BONg",
        "outputId": "970189ed-f6b8-4732-aa05-e334fa13f992"
      },
      "source": [
        "## Finding the top sectors with the highest number of investments in USA.\r\n",
        "D1_by_sector=D1.groupby('main_sector')\r\n",
        "D1_by_sector['raised_amount_usd'].count().sort_values(ascending = False).head()"
      ],
      "execution_count": 464,
      "outputs": [
        {
          "output_type": "execute_result",
          "data": {
            "text/plain": [
              "main_sector\n",
              "Others                                     2949\n",
              "Social, Finance, Analytics, Advertising    2711\n",
              "Cleantech / Semiconductors                 2298\n",
              "News, Search and Messaging                 1580\n",
              "Health                                      909\n",
              "Name: raised_amount_usd, dtype: int64"
            ]
          },
          "metadata": {
            "tags": []
          },
          "execution_count": 464
        }
      ]
    },
    {
      "cell_type": "code",
      "metadata": {
        "colab": {
          "base_uri": "https://localhost:8080/"
        },
        "id": "IzVTcVk0CiuN",
        "outputId": "ee7415f0-d6c3-44ce-a532-381aef765bf4"
      },
      "source": [
        "D1_by_sector['raised_amount_usd'].sum().sort_values(ascending = False).head()"
      ],
      "execution_count": 465,
      "outputs": [
        {
          "output_type": "execute_result",
          "data": {
            "text/plain": [
              "main_sector\n",
              "Others                                     2.630901e+10\n",
              "Social, Finance, Analytics, Advertising    2.378738e+10\n",
              "Cleantech / Semiconductors                 2.118798e+10\n",
              "News, Search and Messaging                 1.394034e+10\n",
              "Health                                     8.211859e+09\n",
              "Name: raised_amount_usd, dtype: float64"
            ]
          },
          "metadata": {
            "tags": []
          },
          "execution_count": 465
        }
      ]
    },
    {
      "cell_type": "code",
      "metadata": {
        "colab": {
          "base_uri": "https://localhost:8080/"
        },
        "id": "2SNZYz8yC31M",
        "outputId": "251dd401-03fb-4091-9b57-7be35e4a5226"
      },
      "source": [
        "## Finding the highest invested company among the 1st Top sectors of the country.\r\n",
        "D1[D1['main_sector']=='Others'].groupby(['main_sector','company_permalink']).raised_amount_usd.sum().sort_values(ascending=False).head()"
      ],
      "execution_count": 466,
      "outputs": [
        {
          "output_type": "execute_result",
          "data": {
            "text/plain": [
              "main_sector  company_permalink                \n",
              "Others       /organization/virtustream            64300000.0\n",
              "             /organization/capella                54968051.0\n",
              "             /organization/airtight-networks      54201907.0\n",
              "             /organization/decarta                52100000.0\n",
              "             /organization/black-duck-software    51000000.0\n",
              "Name: raised_amount_usd, dtype: float64"
            ]
          },
          "metadata": {
            "tags": []
          },
          "execution_count": 466
        }
      ]
    },
    {
      "cell_type": "code",
      "metadata": {
        "colab": {
          "base_uri": "https://localhost:8080/"
        },
        "id": "nv7pZBVIZHSA",
        "outputId": "591bdccf-0990-4445-81ee-a74453d4fe20"
      },
      "source": [
        "## Finding the highest invested company among the 2nd Top sectors of the country.\r\n",
        "\r\n",
        "D1[D1['main_sector']=='Social, Finance, Analytics, Advertising'].groupby(['main_sector','company_permalink']).raised_amount_usd.sum().sort_values(ascending=False).head()\r\n"
      ],
      "execution_count": 467,
      "outputs": [
        {
          "output_type": "execute_result",
          "data": {
            "text/plain": [
              "main_sector                              company_permalink        \n",
              "Social, Finance, Analytics, Advertising  /organization/shotspotter    67933006.0\n",
              "                                         /organization/demandbase     63000000.0\n",
              "                                         /organization/intacct        61800000.0\n",
              "                                         /organization/netbase        60600000.0\n",
              "                                         /organization/lotame         59700000.0\n",
              "Name: raised_amount_usd, dtype: float64"
            ]
          },
          "metadata": {
            "tags": []
          },
          "execution_count": 467
        }
      ]
    },
    {
      "cell_type": "code",
      "metadata": {
        "colab": {
          "base_uri": "https://localhost:8080/"
        },
        "id": "mYjbo28KUt3y",
        "outputId": "76c45796-d28e-41a7-bbd4-4d548259fd17"
      },
      "source": [
        "D1[D1['main_sector']=='Cleantech / Semiconductors'].groupby(['main_sector','company_permalink']).raised_amount_usd.sum().sort_values(ascending=False).head()\r\n"
      ],
      "execution_count": 468,
      "outputs": [
        {
          "output_type": "execute_result",
          "data": {
            "text/plain": [
              "main_sector                 company_permalink          \n",
              "Cleantech / Semiconductors  /organization/biodesix         75300000.0\n",
              "                            /organization/tigo-energy      68739496.0\n",
              "                            /organization/forsight-labs    61300001.0\n",
              "                            /organization/rheonix          56124758.0\n",
              "                            /organization/scienergy        55375423.0\n",
              "Name: raised_amount_usd, dtype: float64"
            ]
          },
          "metadata": {
            "tags": []
          },
          "execution_count": 468
        }
      ]
    },
    {
      "cell_type": "code",
      "metadata": {
        "id": "AhNMqg4NZUH0"
      },
      "source": [
        "## Sector Analysis - GBR (United Kingdom)"
      ],
      "execution_count": 469,
      "outputs": []
    },
    {
      "cell_type": "code",
      "metadata": {
        "id": "jgd7E49zZWZ_"
      },
      "source": [
        "## Creating Data frame D2 for country GBR\r\n",
        "\r\n",
        "D2=top10[top10['country_code']=='GBR']\r\n",
        "D2 = D2[(D2['raised_amount_usd'] >= 5000000) & (D2['raised_amount_usd'] <= 15000000)]\r\n",
        "D2_by_sector=D2.groupby('main_sector')"
      ],
      "execution_count": 470,
      "outputs": []
    },
    {
      "cell_type": "code",
      "metadata": {
        "colab": {
          "base_uri": "https://localhost:8080/"
        },
        "id": "MyduGHW6ZhkB",
        "outputId": "df84b640-faeb-4302-c402-0a8e02308ed0"
      },
      "source": [
        "## Finding the top sectors with the highest number of investments in GBR.\r\n",
        "\r\n",
        "D2_by_sector['raised_amount_usd'].count().sort_values(ascending = False).head()"
      ],
      "execution_count": 471,
      "outputs": [
        {
          "output_type": "execute_result",
          "data": {
            "text/plain": [
              "main_sector\n",
              "Others                                     145\n",
              "Social, Finance, Analytics, Advertising    130\n",
              "Cleantech / Semiconductors                 118\n",
              "News, Search and Messaging                  70\n",
              "Entertainment                               55\n",
              "Name: raised_amount_usd, dtype: int64"
            ]
          },
          "metadata": {
            "tags": []
          },
          "execution_count": 471
        }
      ]
    },
    {
      "cell_type": "code",
      "metadata": {
        "colab": {
          "base_uri": "https://localhost:8080/"
        },
        "id": "T0ScMbPQZqcq",
        "outputId": "d493f120-b1ad-442b-aaac-ed5430fda7c4"
      },
      "source": [
        "D2_by_sector['raised_amount_usd'].sum().sort_values(ascending = False)\r\n"
      ],
      "execution_count": 472,
      "outputs": [
        {
          "output_type": "execute_result",
          "data": {
            "text/plain": [
              "main_sector\n",
              "Others                                     1.273239e+09\n",
              "Social, Finance, Analytics, Advertising    1.068995e+09\n",
              "Cleantech / Semiconductors                 1.065548e+09\n",
              "News, Search and Messaging                 5.981207e+08\n",
              "Entertainment                              4.767237e+08\n",
              "Manufacturing                              3.305364e+08\n",
              "Health                                     1.867220e+08\n",
              "Automotive & Sports                        1.470452e+08\n",
              "index                                      1.452928e+07\n",
              "Name: raised_amount_usd, dtype: float64"
            ]
          },
          "metadata": {
            "tags": []
          },
          "execution_count": 472
        }
      ]
    },
    {
      "cell_type": "code",
      "metadata": {
        "colab": {
          "base_uri": "https://localhost:8080/"
        },
        "id": "qyQ3Gux6ZvbH",
        "outputId": "aac6f4d5-d75d-4c8c-8880-5fd492298a49"
      },
      "source": [
        "## Total amount raised in GBR\r\n",
        "D2.raised_amount_usd.sum()"
      ],
      "execution_count": 473,
      "outputs": [
        {
          "output_type": "execute_result",
          "data": {
            "text/plain": [
              "5161458874.0"
            ]
          },
          "metadata": {
            "tags": []
          },
          "execution_count": 473
        }
      ]
    },
    {
      "cell_type": "code",
      "metadata": {
        "colab": {
          "base_uri": "https://localhost:8080/"
        },
        "id": "mA8h1GOeZ0lx",
        "outputId": "91fb5410-4fb5-4687-ed54-1b4e426e1192"
      },
      "source": [
        "D2.raised_amount_usd.count()"
      ],
      "execution_count": 474,
      "outputs": [
        {
          "output_type": "execute_result",
          "data": {
            "text/plain": [
              "591"
            ]
          },
          "metadata": {
            "tags": []
          },
          "execution_count": 474
        }
      ]
    },
    {
      "cell_type": "code",
      "metadata": {
        "colab": {
          "base_uri": "https://localhost:8080/"
        },
        "id": "qAmiC8eUZ3Zr",
        "outputId": "26eb53e6-c2e3-4045-b9a4-b3410e0391df"
      },
      "source": [
        "D2.shape"
      ],
      "execution_count": 475,
      "outputs": [
        {
          "output_type": "execute_result",
          "data": {
            "text/plain": [
              "(591, 15)"
            ]
          },
          "metadata": {
            "tags": []
          },
          "execution_count": 475
        }
      ]
    },
    {
      "cell_type": "code",
      "metadata": {
        "id": "m7Jq5-34Z6rS"
      },
      "source": [
        "## Finding the highest invested company among the 1st Top sectors of the country."
      ],
      "execution_count": 476,
      "outputs": []
    },
    {
      "cell_type": "code",
      "metadata": {
        "colab": {
          "base_uri": "https://localhost:8080/"
        },
        "id": "7PFMfKDEZ-i-",
        "outputId": "5c994308-99ee-41ac-85a1-82e14f3e08cc"
      },
      "source": [
        "D2[D2['main_sector']=='Others'].groupby(['main_sector','company_permalink']).raised_amount_usd.sum().sort_values(ascending=False).head()"
      ],
      "execution_count": 477,
      "outputs": [
        {
          "output_type": "execute_result",
          "data": {
            "text/plain": [
              "main_sector  company_permalink                    \n",
              "Others       /organization/electric-cloud             37000000.0\n",
              "             /organization/sensage                    36250000.0\n",
              "             /organization/enigmatic                  32500000.0\n",
              "             /organization/silverrail-technologies    29000000.0\n",
              "             /organization/opencloud                  27972766.0\n",
              "Name: raised_amount_usd, dtype: float64"
            ]
          },
          "metadata": {
            "tags": []
          },
          "execution_count": 477
        }
      ]
    },
    {
      "cell_type": "code",
      "metadata": {
        "id": "i4uN9WkPaA7Q"
      },
      "source": [
        "## Finding the highest invested company among the 2nd Top sectors of the country."
      ],
      "execution_count": 478,
      "outputs": []
    },
    {
      "cell_type": "code",
      "metadata": {
        "colab": {
          "base_uri": "https://localhost:8080/"
        },
        "id": "V-WbS119aJfJ",
        "outputId": "1c33f4c7-b25d-48d2-838f-df4c2ddbdfdf"
      },
      "source": [
        "D2[D2['main_sector']=='Social, Finance, Analytics, Advertising'].groupby(['main_sector','company_permalink']).raised_amount_usd.sum().sort_values(ascending=False).head()"
      ],
      "execution_count": 479,
      "outputs": [
        {
          "output_type": "execute_result",
          "data": {
            "text/plain": [
              "main_sector                              company_permalink                  \n",
              "Social, Finance, Analytics, Advertising  /organization/celltick-technologies    37500000.0\n",
              "                                         /organization/mythings                 34000000.0\n",
              "                                         /organization/zopa                     32900000.0\n",
              "                                         /organization/imagini                  28550000.0\n",
              "                                         /organization/marketinvoice            25553007.0\n",
              "Name: raised_amount_usd, dtype: float64"
            ]
          },
          "metadata": {
            "tags": []
          },
          "execution_count": 479
        }
      ]
    },
    {
      "cell_type": "code",
      "metadata": {
        "colab": {
          "base_uri": "https://localhost:8080/"
        },
        "id": "fF1atpjhU6jc",
        "outputId": "cc174bb8-1d90-4a69-f4f3-ca09a9a4fe9f"
      },
      "source": [
        "D2[D2['main_sector']=='Cleantech / Semiconductors'].groupby(['main_sector','company_permalink']).raised_amount_usd.sum().sort_values(ascending=False).head()"
      ],
      "execution_count": 480,
      "outputs": [
        {
          "output_type": "execute_result",
          "data": {
            "text/plain": [
              "main_sector                 company_permalink                                                          \n",
              "Cleantech / Semiconductors  /organization/eusa-pharma                                                      35600000.0\n",
              "                            /organization/horizon-discovery                                                31353719.0\n",
              "                            /organization/f-star-biotechnologische-forschungs-und-entwicklungsges-m-b-h    29132906.0\n",
              "                            /organization/elixent                                                          25000000.0\n",
              "                            /organization/takeda-cambridge                                                 22340000.0\n",
              "Name: raised_amount_usd, dtype: float64"
            ]
          },
          "metadata": {
            "tags": []
          },
          "execution_count": 480
        }
      ]
    },
    {
      "cell_type": "code",
      "metadata": {
        "id": "C2Mka2d5aNBH"
      },
      "source": [
        "## Sector Analysis - India\r\n",
        "## Creating Data frame D3 for country IND\r\n",
        "\r\n",
        "D3=top10[top10['country_code']=='IND']\r\n",
        "D3 = D3[(D3['raised_amount_usd'] >= 5000000) & (D3['raised_amount_usd'] <= 15000000)]\r\n",
        "D3_by_sector=D3.groupby('main_sector')"
      ],
      "execution_count": 481,
      "outputs": []
    },
    {
      "cell_type": "code",
      "metadata": {
        "colab": {
          "base_uri": "https://localhost:8080/"
        },
        "id": "fZqVTzD_abGU",
        "outputId": "1cc53403-9af5-44b1-bfac-f28d176451a2"
      },
      "source": [
        "## Finding the top sectors with the highest number of investments in IND.\r\n",
        "\r\n",
        "D3_by_sector['raised_amount_usd'].count().sort_values(ascending = False)"
      ],
      "execution_count": 482,
      "outputs": [
        {
          "output_type": "execute_result",
          "data": {
            "text/plain": [
              "main_sector\n",
              "Others                                     110\n",
              "Social, Finance, Analytics, Advertising     60\n",
              "News, Search and Messaging                  52\n",
              "Entertainment                               33\n",
              "Manufacturing                               21\n",
              "Cleantech / Semiconductors                  20\n",
              "Health                                      19\n",
              "Automotive & Sports                         12\n",
              "Name: raised_amount_usd, dtype: int64"
            ]
          },
          "metadata": {
            "tags": []
          },
          "execution_count": 482
        }
      ]
    },
    {
      "cell_type": "code",
      "metadata": {
        "colab": {
          "base_uri": "https://localhost:8080/"
        },
        "id": "l4e2oMA-ajFt",
        "outputId": "a24ca92f-cf66-4619-9376-eb043871188c"
      },
      "source": [
        "D3_by_sector['raised_amount_usd'].sum().sort_values(ascending = False)"
      ],
      "execution_count": 483,
      "outputs": [
        {
          "output_type": "execute_result",
          "data": {
            "text/plain": [
              "main_sector\n",
              "Others                                     1.013410e+09\n",
              "Social, Finance, Analytics, Advertising    5.505496e+08\n",
              "News, Search and Messaging                 4.338345e+08\n",
              "Entertainment                              2.808300e+08\n",
              "Manufacturing                              2.009000e+08\n",
              "Health                                     1.677400e+08\n",
              "Cleantech / Semiconductors                 1.653800e+08\n",
              "Automotive & Sports                        1.219000e+08\n",
              "Name: raised_amount_usd, dtype: float64"
            ]
          },
          "metadata": {
            "tags": []
          },
          "execution_count": 483
        }
      ]
    },
    {
      "cell_type": "code",
      "metadata": {
        "colab": {
          "base_uri": "https://localhost:8080/"
        },
        "id": "QUjyf3JEalp8",
        "outputId": "8164f62c-8c70-46e1-ebc8-9bc9d456b6e1"
      },
      "source": [
        "D3.shape"
      ],
      "execution_count": 484,
      "outputs": [
        {
          "output_type": "execute_result",
          "data": {
            "text/plain": [
              "(327, 15)"
            ]
          },
          "metadata": {
            "tags": []
          },
          "execution_count": 484
        }
      ]
    },
    {
      "cell_type": "code",
      "metadata": {
        "colab": {
          "base_uri": "https://localhost:8080/"
        },
        "id": "jS9bJDLJaoXV",
        "outputId": "1464beb9-e0f5-4975-f8a6-a07b96f539d0"
      },
      "source": [
        "D3.raised_amount_usd.sum()"
      ],
      "execution_count": 485,
      "outputs": [
        {
          "output_type": "execute_result",
          "data": {
            "text/plain": [
              "2934543602.0"
            ]
          },
          "metadata": {
            "tags": []
          },
          "execution_count": 485
        }
      ]
    },
    {
      "cell_type": "code",
      "metadata": {
        "colab": {
          "base_uri": "https://localhost:8080/"
        },
        "id": "8318MsmkarTl",
        "outputId": "400ec90c-159d-44c7-c993-0487a44e7ae0"
      },
      "source": [
        "D3.raised_amount_usd.count()"
      ],
      "execution_count": 486,
      "outputs": [
        {
          "output_type": "execute_result",
          "data": {
            "text/plain": [
              "327"
            ]
          },
          "metadata": {
            "tags": []
          },
          "execution_count": 486
        }
      ]
    },
    {
      "cell_type": "code",
      "metadata": {
        "colab": {
          "base_uri": "https://localhost:8080/"
        },
        "id": "0JaoTa2Iat1r",
        "outputId": "69515d46-3d3d-4d17-aeac-9bf68863f875"
      },
      "source": [
        "## Finding the highest invested company among the 1st Top sectors of the country.\r\n",
        "\r\n",
        "D3[D3['main_sector']=='Others'].groupby(['main_sector','company_permalink']).raised_amount_usd.sum().sort_values(ascending=False).head()\r\n"
      ],
      "execution_count": 487,
      "outputs": [
        {
          "output_type": "execute_result",
          "data": {
            "text/plain": [
              "main_sector  company_permalink             \n",
              "Others       /organization/firstcry-com        39000000.0\n",
              "             /organization/myntra              38000000.0\n",
              "             /organization/commonfloor         32900000.0\n",
              "             /organization/pepperfry-com       28000000.0\n",
              "             /organization/itzcash-card-ltd    25000000.0\n",
              "Name: raised_amount_usd, dtype: float64"
            ]
          },
          "metadata": {
            "tags": []
          },
          "execution_count": 487
        }
      ]
    },
    {
      "cell_type": "code",
      "metadata": {
        "colab": {
          "base_uri": "https://localhost:8080/"
        },
        "id": "R3GHF2w9bCUf",
        "outputId": "d18c8b53-f0b4-4e90-c93a-8cef30e047ee"
      },
      "source": [
        "## Finding the highest invested company among the 2nd Top sectors of the country.\r\n",
        "\r\n",
        "D3[D3['main_sector']=='Social, Finance, Analytics, Advertising'].groupby(['main_sector','company_permalink']).raised_amount_usd.sum().sort_values(ascending=False).head()"
      ],
      "execution_count": 488,
      "outputs": [
        {
          "output_type": "execute_result",
          "data": {
            "text/plain": [
              "main_sector                              company_permalink                       \n",
              "Social, Finance, Analytics, Advertising  /organization/manthan-systems               50700000.0\n",
              "                                         /organization/komli-media                   28000000.0\n",
              "                                         /organization/shopclues-com                 25000000.0\n",
              "                                         /organization/intarvo                       21900000.0\n",
              "                                         /organization/grameen-financial-services    21556050.0\n",
              "Name: raised_amount_usd, dtype: float64"
            ]
          },
          "metadata": {
            "tags": []
          },
          "execution_count": 488
        }
      ]
    },
    {
      "cell_type": "code",
      "metadata": {
        "colab": {
          "base_uri": "https://localhost:8080/"
        },
        "id": "Q7vuERVOVFjS",
        "outputId": "c3f1afb3-cfc9-4385-9be7-3afaba8a5bfe"
      },
      "source": [
        "D3[D3['main_sector']=='News, Search and Messaging'].groupby(['main_sector','company_permalink']).raised_amount_usd.sum().sort_values(ascending=False).head()"
      ],
      "execution_count": 489,
      "outputs": [
        {
          "output_type": "execute_result",
          "data": {
            "text/plain": [
              "main_sector                 company_permalink                             \n",
              "News, Search and Messaging  /organization/gupshup-technology-india-pvt-ltd    33000000.0\n",
              "                            /organization/imimobile                           23000000.0\n",
              "                            /organization/sms-gupshup                         22000000.0\n",
              "                            /organization/hike                                21000000.0\n",
              "                            /organization/roadrunnr                           21000000.0\n",
              "Name: raised_amount_usd, dtype: float64"
            ]
          },
          "metadata": {
            "tags": []
          },
          "execution_count": 489
        }
      ]
    },
    {
      "cell_type": "markdown",
      "metadata": {
        "id": "XOEU1f6fmDMa"
      },
      "source": [
        "## Checkpoint 6: Plots"
      ]
    },
    {
      "cell_type": "code",
      "metadata": {
        "colab": {
          "base_uri": "https://localhost:8080/",
          "height": 355
        },
        "id": "3Sd2-VTpbaSx",
        "outputId": "24fbdea2-eafc-4195-c954-fe958a6b7245"
      },
      "source": [
        "# bar plot with default statistic=mean\r\n",
        "plt.figure(figsize=(10,5))\r\n",
        "g=sns.barplot(x='funding_round_type', y='raised_amount_usd', data=master_frame)\r\n",
        "#g.set_ylim(0, 20000000)\r\n",
        "#g.set_yscale('log')\r\n",
        "g.set(xlabel='Funding Type', ylabel='Raised Amount   ( 1 Unit = 10M USD)')\r\n",
        "g.set_title('Funding Type Analysis',fontsize =18)\r\n",
        "\r\n",
        "plt.axhline(5000000, color='green')\r\n",
        "plt.axhline(15000000, color='red')\r\n",
        "\r\n",
        "\r\n",
        "plt.show()"
      ],
      "execution_count": 490,
      "outputs": [
        {
          "output_type": "display_data",
          "data": {
            "image/png": "[encoded data removed]",
            "text/plain": [
              "<Figure size 720x360 with 1 Axes>"
            ]
          },
          "metadata": {
            "tags": [],
            "needs_background": "light"
          }
        }
      ]
    },
    {
      "cell_type": "code",
      "metadata": {
        "colab": {
          "base_uri": "https://localhost:8080/",
          "height": 354
        },
        "id": "YvjVqyy0bdIJ",
        "outputId": "c52ed537-ba3b-4e38-af2c-c253dfbf6979"
      },
      "source": [
        "# bar plot with default statistic=mean\r\n",
        "plt.figure(figsize=(10,5))\r\n",
        "c=sns.barplot(x='country_code', y='raised_amount_usd', data=top10, estimator=np.sum)\r\n",
        "c.set_yscale('log')\r\n",
        "c.set(xlabel='Funding Type', ylabel='Raised Amount')\r\n",
        "c.set_title('Country Analysis',fontsize =18)\r\n",
        "plt.show()"
      ],
      "execution_count": 491,
      "outputs": [
        {
          "output_type": "display_data",
          "data": {
            "image/png": "[encoded data removed]",
            "text/plain": [
              "<Figure size 720x360 with 1 Axes>"
            ]
          },
          "metadata": {
            "tags": [],
            "needs_background": "light"
          }
        }
      ]
    },
    {
      "cell_type": "code",
      "metadata": {
        "colab": {
          "base_uri": "https://localhost:8080/",
          "height": 621
        },
        "id": "mLCBYyUSgGUY",
        "outputId": "7e345dd9-ffa4-4b81-b719-436f679e30f5"
      },
      "source": [
        "## USA\r\n",
        "\r\n",
        "plt.figure(figsize=(20, 10))\r\n",
        "plt.subplot(1, 2, 1)\r\n",
        "sns.countplot(y=\"main_sector\", data=D1)\r\n",
        "plt.title(\"Count\")\r\n",
        "plt.show()"
      ],
      "execution_count": 492,
      "outputs": [
        {
          "output_type": "display_data",
          "data": {
            "image/png": "[encoded data removed]",
            "text/plain": [
              "<Figure size 1440x720 with 1 Axes>"
            ]
          },
          "metadata": {
            "tags": [],
            "needs_background": "light"
          }
        }
      ]
    },
    {
      "cell_type": "code",
      "metadata": {
        "colab": {
          "base_uri": "https://localhost:8080/",
          "height": 622
        },
        "id": "owgd37wKkNxF",
        "outputId": "0a1de312-ddce-44d4-efcf-2a03760a3384"
      },
      "source": [
        "plt.figure(figsize=(20, 10))\r\n",
        "plt.subplot(1, 2, 2)\r\n",
        "sns.barplot(y=\"main_sector\", x=\"raised_amount_usd\", data=D1, estimator=sum)\r\n",
        "plt.title(\"Sum\")\r\n",
        "plt.show()"
      ],
      "execution_count": 493,
      "outputs": [
        {
          "output_type": "display_data",
          "data": {
            "image/png": "[encoded data removed]",
            "text/plain": [
              "<Figure size 1440x720 with 1 Axes>"
            ]
          },
          "metadata": {
            "tags": [],
            "needs_background": "light"
          }
        }
      ]
    },
    {
      "cell_type": "code",
      "metadata": {
        "colab": {
          "base_uri": "https://localhost:8080/",
          "height": 621
        },
        "id": "78nmzsOuf5k2",
        "outputId": "8a7d6f42-ec9b-4ee3-dfa3-603d2b62b3d1"
      },
      "source": [
        "## Great Britian\r\n",
        "\r\n",
        "plt.figure(figsize=(20, 10))\r\n",
        "plt.subplot(1, 2, 1)\r\n",
        "sns.countplot(y=\"main_sector\", data=D2)\r\n",
        "plt.title(\"Count\")\r\n",
        "plt.show()"
      ],
      "execution_count": 494,
      "outputs": [
        {
          "output_type": "display_data",
          "data": {
            "image/png": "[encoded data removed]",
            "text/plain": [
              "<Figure size 1440x720 with 1 Axes>"
            ]
          },
          "metadata": {
            "tags": [],
            "needs_background": "light"
          }
        }
      ]
    },
    {
      "cell_type": "code",
      "metadata": {
        "colab": {
          "base_uri": "https://localhost:8080/",
          "height": 622
        },
        "id": "6JJ-SF_RkdG-",
        "outputId": "3d0705a6-67d4-4754-9e00-19294bf3427c"
      },
      "source": [
        "plt.figure(figsize=(20, 10))\r\n",
        "plt.subplot(1, 2, 2)\r\n",
        "sns.barplot(y=\"main_sector\", x=\"raised_amount_usd\", data=D2, estimator=sum)\r\n",
        "plt.title(\"Sum\")\r\n",
        "plt.show()"
      ],
      "execution_count": 495,
      "outputs": [
        {
          "output_type": "display_data",
          "data": {
            "image/png": "[encoded data removed]",
            "text/plain": [
              "<Figure size 1440x720 with 1 Axes>"
            ]
          },
          "metadata": {
            "tags": [],
            "needs_background": "light"
          }
        }
      ]
    },
    {
      "cell_type": "code",
      "metadata": {
        "colab": {
          "base_uri": "https://localhost:8080/",
          "height": 621
        },
        "id": "yxSvR9rDfxxb",
        "outputId": "bc68212c-53dc-4362-a136-2f3655d08ea1"
      },
      "source": [
        "## INDIA\r\n",
        "\r\n",
        "plt.figure(figsize=(20, 10))\r\n",
        "plt.subplot(1, 2, 1)\r\n",
        "sns.countplot(y=\"main_sector\", data=D3)\r\n",
        "plt.title(\"Count\")\r\n",
        "plt.show()"
      ],
      "execution_count": 496,
      "outputs": [
        {
          "output_type": "display_data",
          "data": {
            "image/png": "[encoded data removed]",
            "text/plain": [
              "<Figure size 1440x720 with 1 Axes>"
            ]
          },
          "metadata": {
            "tags": [],
            "needs_background": "light"
          }
        }
      ]
    },
    {
      "cell_type": "code",
      "metadata": {
        "colab": {
          "base_uri": "https://localhost:8080/",
          "height": 622
        },
        "id": "7JimkpKeko1Q",
        "outputId": "e61d50a1-c18c-449e-c91f-d5ac0a871e66"
      },
      "source": [
        "plt.figure(figsize=(20, 10))\r\n",
        "plt.subplot(1, 2, 2)\r\n",
        "sns.barplot(y=\"main_sector\", x=\"raised_amount_usd\", data=D3, estimator=sum)\r\n",
        "plt.title(\"Sum\")\r\n",
        "plt.show()"
      ],
      "execution_count": 497,
      "outputs": [
        {
          "output_type": "display_data",
          "data": {
            "image/png": "[encoded data removed]",
            "text/plain": [
              "<Figure size 1440x720 with 1 Axes>"
            ]
          },
          "metadata": {
            "tags": [],
            "needs_background": "light"
          }
        }
      ]
    },
    {
      "cell_type": "code",
      "metadata": {
        "id": "-AAuUZamb2Gk"
      },
      "source": [
        "## A plot showing the number of investments in the top 3 sectors of the top 3 countries on one chart (for the chosen investment type i.e venture)\r\n",
        "## For this plot creating a master dataframe with all the data for the top 3 sectors of the top 3 countries."
      ],
      "execution_count": 498,
      "outputs": []
    },
    {
      "cell_type": "code",
      "metadata": {
        "colab": {
          "base_uri": "https://localhost:8080/"
        },
        "id": "g7InVuJXcqIP",
        "outputId": "764adf1f-b0e7-40fe-f2d8-79f8dedb3bd8"
      },
      "source": [
        "master_D=D1[D1['main_sector'].isin(['Others','Social, Finance, Analytics, Advertising','Cleantech / Semiconductors'])]\r\n",
        "master_D.shape\r\n"
      ],
      "execution_count": 499,
      "outputs": [
        {
          "output_type": "execute_result",
          "data": {
            "text/plain": [
              "(7958, 15)"
            ]
          },
          "metadata": {
            "tags": []
          },
          "execution_count": 499
        }
      ]
    },
    {
      "cell_type": "code",
      "metadata": {
        "colab": {
          "base_uri": "https://localhost:8080/"
        },
        "id": "JA6M5fwrcup3",
        "outputId": "89b52301-5a5c-44ed-d615-72a3b54dd7b7"
      },
      "source": [
        "master_D=master_D.append(D2[D2['main_sector'].isin(['Others','Social, Finance, Analytics, Advertising','Cleantech / Semiconductors'])], ignore_index=True)\r\n",
        "master_D.shape"
      ],
      "execution_count": 500,
      "outputs": [
        {
          "output_type": "execute_result",
          "data": {
            "text/plain": [
              "(8351, 15)"
            ]
          },
          "metadata": {
            "tags": []
          },
          "execution_count": 500
        }
      ]
    },
    {
      "cell_type": "code",
      "metadata": {
        "colab": {
          "base_uri": "https://localhost:8080/"
        },
        "id": "2JDr_bu9c0Tf",
        "outputId": "4ea58501-2cb4-494e-fba8-12fb96ed16d3"
      },
      "source": [
        "master_D=master_D.append(D3[D3['main_sector'].isin(['Others','Social, Finance, Analytics, Advertising','News, Search and Messaging'])], ignore_index=True)\r\n",
        "master_D.shape"
      ],
      "execution_count": 501,
      "outputs": [
        {
          "output_type": "execute_result",
          "data": {
            "text/plain": [
              "(8573, 15)"
            ]
          },
          "metadata": {
            "tags": []
          },
          "execution_count": 501
        }
      ]
    },
    {
      "cell_type": "code",
      "metadata": {
        "colab": {
          "base_uri": "https://localhost:8080/",
          "height": 570
        },
        "id": "tkmQW039c9uj",
        "outputId": "7e0c3e4f-d265-426a-d778-d49460e7043e"
      },
      "source": [
        "## Using the master_D dataframe to plot the sector wise investment count of the top 3 sectors of the top3 countries.\r\n",
        "# set figure size for larger figure\r\n",
        "plt.figure(num=None, figsize=(12, 8), dpi=80, facecolor='w', edgecolor='k')\r\n",
        "\r\n",
        "# specify hue=\"categorical_variable\"\r\n",
        "s=sns.barplot(x='country_code', y='raised_amount_usd', hue=\"main_sector\", data=master_D,estimator=lambda x: len(x))\r\n",
        "s.set(xlabel='Country', ylabel='Number of Investments')\r\n",
        "s.set_title('Investments in top3 sectors of top 3 countries',fontsize =18)\r\n",
        "plt.show()"
      ],
      "execution_count": 502,
      "outputs": [
        {
          "output_type": "display_data",
          "data": {
            "image/png": "[encoded data removed]",
            "text/plain": [
              "<Figure size 960x640 with 1 Axes>"
            ]
          },
          "metadata": {
            "tags": []
          }
        }
      ]
    }
  ]
}